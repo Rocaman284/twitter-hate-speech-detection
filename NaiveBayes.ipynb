{
 "cells": [
  {
   "cell_type": "markdown",
   "id": "d390218d",
   "metadata": {},
   "source": [
    "# Naive Bayes Model with Different Vectorization Techniques"
   ]
  },
  {
   "cell_type": "code",
   "execution_count": 38,
   "id": "39abc549",
   "metadata": {},
   "outputs": [],
   "source": [
    "# importing relevant libraries\n",
    "import numpy as np\n",
    "import pandas as pd\n",
    "import matplotlib.pyplot as plt\n",
    "from matplotlib import cm\n",
    "import seaborn as sns\n",
    "%matplotlib inline\n",
    "plt.style.use('bmh')\n",
    "import pickle\n",
    "from sklearn.model_selection import train_test_split"
   ]
  },
  {
   "cell_type": "code",
   "execution_count": 39,
   "id": "c14f3527",
   "metadata": {},
   "outputs": [],
   "source": [
    "# load y_lem \n",
    "with open('y_lem.pkl', 'rb') as f :\n",
    "    y_lem = pickle.load(f)"
   ]
  },
  {
   "cell_type": "markdown",
   "id": "59ee3aa7",
   "metadata": {},
   "source": [
    "## Naive Bayes with TF-IDF"
   ]
  },
  {
   "cell_type": "code",
   "execution_count": 41,
   "id": "8d8f3ed4",
   "metadata": {},
   "outputs": [],
   "source": [
    "# load X_tfidf and X_count\n",
    "with open('X_tfidf.pkl' , 'rb') as f:\n",
    "    X_tfidf = pickle.load(f)\n",
    "################################"
   ]
  },
  {
   "cell_type": "code",
   "execution_count": 42,
   "id": "48872769",
   "metadata": {},
   "outputs": [],
   "source": [
    "X_train, X_test, y_train, y_test = train_test_split(X_tfidf, y_lem, test_size=0.2, random_state=20)"
   ]
  },
  {
   "cell_type": "code",
   "execution_count": 43,
   "id": "d0229972",
   "metadata": {},
   "outputs": [],
   "source": [
    "from sklearn.naive_bayes import MultinomialNB\n",
    "naive_bayes_tfidf = MultinomialNB(alpha = .01)"
   ]
  },
  {
   "cell_type": "code",
   "execution_count": 44,
   "id": "e6d29a62",
   "metadata": {},
   "outputs": [
    {
     "name": "stdout",
     "output_type": "stream",
     "text": [
      "Wall time: 201 ms\n"
     ]
    }
   ],
   "source": [
    "%%time\n",
    "naive_bayes_tfidf.fit(X_train, y_train)\n",
    "naive_bayes_predictions_tfidf = naive_bayes_tfidf.predict(X_test)"
   ]
  },
  {
   "cell_type": "code",
   "execution_count": 45,
   "id": "9a459324",
   "metadata": {},
   "outputs": [
    {
     "name": "stdout",
     "output_type": "stream",
     "text": [
      "              precision    recall  f1-score   support\n",
      "\n",
      "           0       0.97      0.71      0.82      4683\n",
      "           1       0.11      0.60      0.18       274\n",
      "\n",
      "    accuracy                           0.70      4957\n",
      "   macro avg       0.54      0.65      0.50      4957\n",
      "weighted avg       0.92      0.70      0.78      4957\n",
      "\n"
     ]
    }
   ],
   "source": [
    "from sklearn.metrics import classification_report\n",
    "print(classification_report(y_test, naive_bayes_predictions_tfidf))"
   ]
  },
  {
   "cell_type": "code",
   "execution_count": 46,
   "id": "71acb3d3",
   "metadata": {},
   "outputs": [
    {
     "data": {
      "text/plain": [
       "<AxesSubplot:>"
      ]
     },
     "execution_count": 46,
     "metadata": {},
     "output_type": "execute_result"
    },
    {
     "data": {
      "image/png": "[encoded data removed]",
      "text/plain": [
       "<Figure size 432x288 with 2 Axes>"
      ]
     },
     "metadata": {
      "needs_background": "light"
     },
     "output_type": "display_data"
    }
   ],
   "source": [
    "from sklearn.metrics import confusion_matrix\n",
    "cfm = confusion_matrix(y_test, naive_bayes_predictions_tfidf)\n",
    "labels = ['True Neg','False Pos','False Neg','True Pos']\n",
    "labels = np.asarray(labels).reshape(2,2)\n",
    "sns.heatmap(cfm,annot=labels, fmt='', cmap=\"Blues\")"
   ]
  },
  {
   "cell_type": "code",
   "execution_count": 47,
   "id": "3f51702f",
   "metadata": {},
   "outputs": [],
   "source": [
    "# dumping the model\n",
    "with open('naiveBayes_tfidf_model.pkl','wb') as files:\n",
    "    pickle.dump(naive_bayes_tfidf, files)"
   ]
  },
  {
   "cell_type": "markdown",
   "id": "011a89de",
   "metadata": {},
   "source": [
    "## Naive Bayes with Count Vectorization"
   ]
  },
  {
   "cell_type": "code",
   "execution_count": 48,
   "id": "08c39877",
   "metadata": {},
   "outputs": [],
   "source": [
    "with open('X_count.pkl' , 'rb') as f:\n",
    "    X_count = pickle.load(f)"
   ]
  },
  {
   "cell_type": "code",
   "execution_count": 49,
   "id": "050a58d5",
   "metadata": {},
   "outputs": [],
   "source": [
    "X_train_c, X_test_c, y_train_c, y_test_c = train_test_split(X_count, y_lem, test_size=0.2, random_state=20)"
   ]
  },
  {
   "cell_type": "code",
   "execution_count": 50,
   "id": "260e4c9c",
   "metadata": {},
   "outputs": [],
   "source": [
    "naive_bayes_count = MultinomialNB(alpha = .01)"
   ]
  },
  {
   "cell_type": "code",
   "execution_count": 51,
   "id": "f09945f7",
   "metadata": {},
   "outputs": [
    {
     "name": "stdout",
     "output_type": "stream",
     "text": [
      "Wall time: 84.7 ms\n"
     ]
    }
   ],
   "source": [
    "%%time\n",
    "naive_bayes_count.fit(X_train_c, y_train_c)\n",
    "naive_bayes_predictions_count = naive_bayes_count.predict(X_test_c)"
   ]
  },
  {
   "cell_type": "code",
   "execution_count": 52,
   "id": "57500c24",
   "metadata": {},
   "outputs": [
    {
     "name": "stdout",
     "output_type": "stream",
     "text": [
      "              precision    recall  f1-score   support\n",
      "\n",
      "           0       0.96      0.93      0.94      4683\n",
      "           1       0.21      0.32      0.26       274\n",
      "\n",
      "    accuracy                           0.90      4957\n",
      "   macro avg       0.59      0.63      0.60      4957\n",
      "weighted avg       0.92      0.90      0.91      4957\n",
      "\n"
     ]
    }
   ],
   "source": [
    "from sklearn.metrics import classification_report\n",
    "print(classification_report(y_test, naive_bayes_predictions_count))"
   ]
  },
  {
   "cell_type": "code",
   "execution_count": 53,
   "id": "429e269f",
   "metadata": {},
   "outputs": [
    {
     "data": {
      "text/plain": [
       "<AxesSubplot:>"
      ]
     },
     "execution_count": 53,
     "metadata": {},
     "output_type": "execute_result"
    },
    {
     "data": {
      "image/png": "[encoded data removed]",
      "text/plain": [
       "<Figure size 432x288 with 2 Axes>"
      ]
     },
     "metadata": {
      "needs_background": "light"
     },
     "output_type": "display_data"
    }
   ],
   "source": [
    "cfm_c = confusion_matrix(y_test_c, naive_bayes_predictions_count)\n",
    "labels = ['True Neg','False Pos','False Neg','True Pos']\n",
    "labels = np.asarray(labels).reshape(2,2)\n",
    "sns.heatmap(cfm,annot=labels, fmt='', cmap=\"Blues\")"
   ]
  },
  {
   "cell_type": "code",
   "execution_count": 54,
   "id": "63602589",
   "metadata": {},
   "outputs": [],
   "source": [
    "# dumping the model\n",
    "with open('naiveBayes_count_model.pkl','wb') as files:\n",
    "    pickle.dump(naive_bayes_count, files)"
   ]
  }
 ],
 "metadata": {
  "kernelspec": {
   "display_name": "Python 3 (ipykernel)",
   "language": "python",
   "name": "python3"
  },
  "language_info": {
   "codemirror_mode": {
    "name": "ipython",
    "version": 3
   },
   "file_extension": ".py",
   "mimetype": "text/x-python",
   "name": "python",
   "nbconvert_exporter": "python",
   "pygments_lexer": "ipython3",
   "version": "3.9.7"
  }
 },
 "nbformat": 4,
 "nbformat_minor": 5
}
