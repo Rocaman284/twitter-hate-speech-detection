{
 "cells": [
  {
   "cell_type": "markdown",
   "id": "ccb0b8ef",
   "metadata": {},
   "source": [
    "# NLP preprocessing \n",
    "#### Here we are doing all nlp work "
   ]
  },
  {
   "cell_type": "code",
   "execution_count": 45,
   "id": "53ecbe45",
   "metadata": {},
   "outputs": [],
   "source": [
    "# importing relevant libraries\n",
    "import numpy as np\n",
    "import pandas as pd\n",
    "import matplotlib.pyplot as plt\n",
    "from matplotlib import cm\n",
    "import seaborn as sns\n",
    "%matplotlib inline\n",
    "plt.style.use('bmh')\n",
    "import pickle\n",
    "# custom fuctions\n",
    "\n",
    "# NLP libraries\n",
    "import nltk\n",
    "from sklearn.feature_extraction import text \n",
    "from nltk.stem import WordNetLemmatizer, PorterStemmer\n",
    "from sklearn.feature_extraction.text import CountVectorizer, TfidfVectorizer, TfidfTransformer\n",
    "from nltk.probability import FreqDist\n",
    "from nltk.corpus import stopwords"
   ]
  },
  {
   "cell_type": "code",
   "execution_count": 46,
   "id": "fd9c4fc0",
   "metadata": {},
   "outputs": [
    {
     "data": {
      "text/html": [
       "<div>\n",
       "<style scoped>\n",
       "    .dataframe tbody tr th:only-of-type {\n",
       "        vertical-align: middle;\n",
       "    }\n",
       "\n",
       "    .dataframe tbody tr th {\n",
       "        vertical-align: top;\n",
       "    }\n",
       "\n",
       "    .dataframe thead th {\n",
       "        text-align: right;\n",
       "    }\n",
       "</style>\n",
       "<table border=\"1\" class=\"dataframe\">\n",
       "  <thead>\n",
       "    <tr style=\"text-align: right;\">\n",
       "      <th></th>\n",
       "      <th>total_votes</th>\n",
       "      <th>hate_speech_votes</th>\n",
       "      <th>other_votes</th>\n",
       "      <th>label</th>\n",
       "      <th>tweet</th>\n",
       "      <th>clean_tweets</th>\n",
       "    </tr>\n",
       "  </thead>\n",
       "  <tbody>\n",
       "    <tr>\n",
       "      <th>0</th>\n",
       "      <td>NaN</td>\n",
       "      <td>NaN</td>\n",
       "      <td>3</td>\n",
       "      <td>1</td>\n",
       "      <td>!!! RT @mayasolovely: As a woman you shouldn't...</td>\n",
       "      <td>as a woman you shouldnt complain about clea...</td>\n",
       "    </tr>\n",
       "    <tr>\n",
       "      <th>1</th>\n",
       "      <td>NaN</td>\n",
       "      <td>NaN</td>\n",
       "      <td>3</td>\n",
       "      <td>0</td>\n",
       "      <td>!!!!! RT @mleew17: boy dats cold...tyga dwn ba...</td>\n",
       "      <td>boy dats coldtyga dwn bad for cuffin dat ho...</td>\n",
       "    </tr>\n",
       "    <tr>\n",
       "      <th>2</th>\n",
       "      <td>NaN</td>\n",
       "      <td>NaN</td>\n",
       "      <td>3</td>\n",
       "      <td>0</td>\n",
       "      <td>!!!!!!! RT @UrKindOfBrand Dawg!!!! RT @80sbaby...</td>\n",
       "      <td>dawg   you ever fuck a bitch and she sta to...</td>\n",
       "    </tr>\n",
       "    <tr>\n",
       "      <th>3</th>\n",
       "      <td>NaN</td>\n",
       "      <td>NaN</td>\n",
       "      <td>3</td>\n",
       "      <td>0</td>\n",
       "      <td>!!!!!!!!! RT @C_G_Anderson: @viva_based she lo...</td>\n",
       "      <td>she look like a tranny</td>\n",
       "    </tr>\n",
       "    <tr>\n",
       "      <th>4</th>\n",
       "      <td>NaN</td>\n",
       "      <td>NaN</td>\n",
       "      <td>6</td>\n",
       "      <td>0</td>\n",
       "      <td>!!!!!!!!!!!!! RT @ShenikaRoberts: The shit you...</td>\n",
       "      <td>the shit you hear about me might be true or...</td>\n",
       "    </tr>\n",
       "  </tbody>\n",
       "</table>\n",
       "</div>"
      ],
      "text/plain": [
       "   total_votes  hate_speech_votes  other_votes  label  \\\n",
       "0          NaN                NaN            3      1   \n",
       "1          NaN                NaN            3      0   \n",
       "2          NaN                NaN            3      0   \n",
       "3          NaN                NaN            3      0   \n",
       "4          NaN                NaN            6      0   \n",
       "\n",
       "                                               tweet  \\\n",
       "0  !!! RT @mayasolovely: As a woman you shouldn't...   \n",
       "1  !!!!! RT @mleew17: boy dats cold...tyga dwn ba...   \n",
       "2  !!!!!!! RT @UrKindOfBrand Dawg!!!! RT @80sbaby...   \n",
       "3  !!!!!!!!! RT @C_G_Anderson: @viva_based she lo...   \n",
       "4  !!!!!!!!!!!!! RT @ShenikaRoberts: The shit you...   \n",
       "\n",
       "                                        clean_tweets  \n",
       "0     as a woman you shouldnt complain about clea...  \n",
       "1     boy dats coldtyga dwn bad for cuffin dat ho...  \n",
       "2     dawg   you ever fuck a bitch and she sta to...  \n",
       "3                             she look like a tranny  \n",
       "4     the shit you hear about me might be true or...  "
      ]
     },
     "execution_count": 46,
     "metadata": {},
     "output_type": "execute_result"
    }
   ],
   "source": [
    "# loading in clean_df\n",
    "clean_df = pd.read_pickle(r'C:\\Users\\Lalit\\Documents\\AI_sentimentAnalysis\\clean_df_new.pkl')\n",
    "clean_df.head()"
   ]
  },
  {
   "cell_type": "code",
   "execution_count": 51,
   "id": "ad3bca57",
   "metadata": {},
   "outputs": [
    {
     "data": {
      "text/plain": [
       "0           as a woman you shouldnt complain about clea...\n",
       "1           boy dats coldtyga dwn bad for cuffin dat ho...\n",
       "2           dawg   you ever fuck a bitch and she sta to...\n",
       "3                                   she look like a tranny\n",
       "4           the shit you hear about me might be true or...\n",
       "                               ...                        \n",
       "25291    yous a muthafin lie    right his tl is trash  ...\n",
       "25292    youve gone and broke the wrong hea baby and dr...\n",
       "25294    young buck wanna eat dat nigguh like i aint fu...\n",
       "25295                youu got wild bitches tellin you lies\n",
       "25296    ruffled  ntac eileen dahlia  beautiful color c...\n",
       "Name: clean_tweets, Length: 24783, dtype: object"
      ]
     },
     "execution_count": 51,
     "metadata": {},
     "output_type": "execute_result"
    }
   ],
   "source": [
    "# assigning variables to essential columns\n",
    "data = clean_df['clean_tweets']\n",
    "target = clean_df['label']\n",
    "data"
   ]
  },
  {
   "cell_type": "code",
   "execution_count": 20,
   "id": "d08546fe",
   "metadata": {},
   "outputs": [
    {
     "name": "stderr",
     "output_type": "stream",
     "text": [
      "[nltk_data] Downloading package stopwords to\n",
      "[nltk_data]     C:\\Users\\Lalit\\AppData\\Roaming\\nltk_data...\n",
      "[nltk_data]   Package stopwords is already up-to-date!\n"
     ]
    },
    {
     "data": {
      "text/plain": [
       "True"
      ]
     },
     "execution_count": 20,
     "metadata": {},
     "output_type": "execute_result"
    }
   ],
   "source": [
    "nltk.download('stopwords')"
   ]
  },
  {
   "cell_type": "code",
   "execution_count": 52,
   "id": "08dd82a1",
   "metadata": {},
   "outputs": [],
   "source": [
    "# setting NLTK stop words as `stop_words`\n",
    "stop_words = set(stopwords.words('english'))"
   ]
  },
  {
   "cell_type": "code",
   "execution_count": 48,
   "id": "1447f366",
   "metadata": {},
   "outputs": [],
   "source": [
    "def process_tweet(text):\n",
    "    \"\"\"tokenize text in each column and remove stop words\"\"\"\n",
    "    stop_words = set(stopwords.words('english'))\n",
    "    tokens = nltk.word_tokenize(text)\n",
    "    stopwords_removed = [token.lower() for token in tokens if token.lower() not in stop_words]\n",
    "    return stopwords_removed"
   ]
  },
  {
   "cell_type": "code",
   "execution_count": 7,
   "id": "22099b3f",
   "metadata": {},
   "outputs": [
    {
     "name": "stderr",
     "output_type": "stream",
     "text": [
      "[nltk_data] Downloading package punkt to\n",
      "[nltk_data]     C:\\Users\\Lalit\\AppData\\Roaming\\nltk_data...\n",
      "[nltk_data]   Package punkt is already up-to-date!\n"
     ]
    },
    {
     "data": {
      "text/plain": [
       "True"
      ]
     },
     "execution_count": 7,
     "metadata": {},
     "output_type": "execute_result"
    }
   ],
   "source": [
    "nltk.download('punkt')"
   ]
  },
  {
   "cell_type": "code",
   "execution_count": 8,
   "id": "44cba1b4",
   "metadata": {},
   "outputs": [],
   "source": [
    "def process_tweet(text):\n",
    "    \"\"\"tokenize text in each column and remove stop words\"\"\"\n",
    "    stop_words = set(stopwords.words('english'))\n",
    "    tokens = nltk.word_tokenize(text)\n",
    "    stopwords_removed = [token.lower() for token in tokens if token.lower() not in stop_words]\n",
    "    return stopwords_removed "
   ]
  },
  {
   "cell_type": "code",
   "execution_count": 53,
   "id": "f8b752de",
   "metadata": {},
   "outputs": [],
   "source": [
    "# applying the above function to our `clean_tweets`\n",
    "processed_data = list(map(process_tweet, data))"
   ]
  },
  {
   "cell_type": "code",
   "execution_count": 54,
   "id": "a2693c4e",
   "metadata": {},
   "outputs": [
    {
     "data": {
      "text/plain": [
       "20277"
      ]
     },
     "execution_count": 54,
     "metadata": {},
     "output_type": "execute_result"
    }
   ],
   "source": [
    "# getting count of all unique words in the corpus\n",
    "total_vocab = set()\n",
    "for comment in processed_data:\n",
    "    total_vocab.update(comment)\n",
    "len(total_vocab)"
   ]
  },
  {
   "cell_type": "code",
   "execution_count": 11,
   "id": "df93a09b",
   "metadata": {},
   "outputs": [
    {
     "data": {
      "text/plain": [
       "[('bitch', 8227),\n",
       " ('bitches', 3083),\n",
       " ('like', 2766),\n",
       " ('hoes', 2368),\n",
       " ('pussy', 2099),\n",
       " ('im', 2061),\n",
       " ('hoe', 1906),\n",
       " ('dont', 1749),\n",
       " ('got', 1597),\n",
       " ('ass', 1570),\n",
       " ('get', 1428),\n",
       " ('fuck', 1411),\n",
       " ('u', 1280),\n",
       " ('shit', 1262),\n",
       " ('nigga', 1198),\n",
       " ('aint', 1158),\n",
       " ('trash', 1142),\n",
       " ('lol', 1074),\n",
       " ('know', 806),\n",
       " ('niggas', 791)]"
      ]
     },
     "execution_count": 11,
     "metadata": {},
     "output_type": "execute_result"
    }
   ],
   "source": [
    "# transforming `processed_data` into a readable list\n",
    "flat_filtered = [item for sublist in processed_data for item in sublist]\n",
    "# getting frequency distribution\n",
    "clean_corpus_freqdist = FreqDist(flat_filtered)\n",
    "# top 20 words in cleaned corpus\n",
    "clean_corpus_freqdist.most_common(20)"
   ]
  },
  {
   "cell_type": "code",
   "execution_count": 12,
   "id": "c4d202b5",
   "metadata": {},
   "outputs": [
    {
     "name": "stderr",
     "output_type": "stream",
     "text": [
      "[nltk_data] Downloading package wordnet to\n",
      "[nltk_data]     C:\\Users\\Lalit\\AppData\\Roaming\\nltk_data...\n",
      "[nltk_data]   Package wordnet is already up-to-date!\n"
     ]
    },
    {
     "data": {
      "text/plain": [
       "True"
      ]
     },
     "execution_count": 12,
     "metadata": {},
     "output_type": "execute_result"
    }
   ],
   "source": [
    "nltk.download('wordnet')"
   ]
  },
  {
   "cell_type": "code",
   "execution_count": 55,
   "id": "57d2e369",
   "metadata": {},
   "outputs": [],
   "source": [
    "# creating a list with all lemmatized outputs\n",
    "lemmatizer = WordNetLemmatizer() \n",
    "lemmatized_output = []\n",
    "\n",
    "for listy in processed_data:\n",
    "    lemmed = ' '.join([lemmatizer.lemmatize(w) for w in listy])\n",
    "    lemmatized_output.append(lemmed)"
   ]
  },
  {
   "cell_type": "code",
   "execution_count": 56,
   "id": "d7d5652d",
   "metadata": {},
   "outputs": [
    {
     "data": {
      "text/plain": [
       "0        1\n",
       "1        0\n",
       "2        0\n",
       "3        0\n",
       "4        0\n",
       "        ..\n",
       "25291    0\n",
       "25292    1\n",
       "25294    0\n",
       "25295    0\n",
       "25296    1\n",
       "Name: label, Length: 24783, dtype: int64"
      ]
     },
     "execution_count": 56,
     "metadata": {},
     "output_type": "execute_result"
    }
   ],
   "source": [
    "X_lem = lemmatized_output\n",
    "y_lem = target\n",
    "y_lem"
   ]
  },
  {
   "cell_type": "code",
   "execution_count": 57,
   "id": "a3d91cb7",
   "metadata": {},
   "outputs": [],
   "source": [
    "with open('X_lem.pkl', 'wb') as files:\n",
    "    pickle.dump(X_lem, files)"
   ]
  },
  {
   "cell_type": "code",
   "execution_count": 18,
   "id": "eb49a70d",
   "metadata": {
    "scrolled": true
   },
   "outputs": [
    {
     "data": {
      "text/plain": [
       "['hate bird piss fact cant fly',\n",
       " 'double tap imma honest hoe honest hoe',\n",
       " 'post picture woman hoe jumping bridge tonight lol',\n",
       " 'weeknds fan person half hoea quaer gothic quaer hipster',\n",
       " 'lol nah hoe dealt yall rxtjwwkfhj',\n",
       " 'lashontae bad bitch time',\n",
       " 'karma bitch genuinely mean',\n",
       " 'mf tell gm damn near every mornin bitch dont even tell gm wide tf awoke wtf type shit',\n",
       " 'lmfao bitch talking',\n",
       " 'wait take brownie',\n",
       " 'son bitch took tic tacs like movie',\n",
       " 'bitch nan',\n",
       " 'big titty bitch lmao fuck good pay',\n",
       " 'skinny young nigga n im finer bitch',\n",
       " 'always interesting see people trash la liga react product la liga premier league club',\n",
       " 'bitch wan na get slick',\n",
       " 'bitch nigga owe money',\n",
       " 'boy said last night ill gym bc refuse sloppy like bad built bitch lol',\n",
       " 'druggys hoe got ta dopest video ever',\n",
       " 'first day spring break ate half pan brownie watched episode park rec',\n",
       " 'bob marley wrote peace hoe remember smoking blunt',\n",
       " 'really dont give fuck sta got hoe fuck bitch shit im deleting yo',\n",
       " 'like cure time u shut da fuck gettin folk bizness like lil bitch',\n",
       " 'fredo bitch as nigga nigga fire shot pop didnt get cuz dropped gun smh',\n",
       " 'oreo cookie pancake',\n",
       " 'first white bitch wan na ask extra question shit lil bitch everything skinny as',\n",
       " 'im asking boy question like bitch',\n",
       " 'really faggot say match bad stop watching',\n",
       " 'told trust bitch watch yo homies',\n",
       " 'kentucky fried cater da white folk colored menu',\n",
       " 'ya bitch mad tell ha ill put ha',\n",
       " 'bang trust wohy bitch',\n",
       " 'im bully halfretarded talking flotation device assure im bully',\n",
       " 'wtf look like lying knowing bitch dont know hoe dont know hoe tf simple',\n",
       " 'happy bihday chocolate brotha love u hoe',\n",
       " 'basic as bitch',\n",
       " 'bitch think trucker hat automatically make model',\n",
       " 'also recommend shiner bock hour brisket duty pit feeding oak coal',\n",
       " 'fufu bitch cant nun break hea set',\n",
       " 'lmao still feel played bout hoe',\n",
       " 'super bad bitch walk past u u cant help stare',\n",
       " 'finally warner bros making superhero film starring woman person color actor identifies queer',\n",
       " 'got ta talk shit another nigga get pussy weaaak',\n",
       " 'obama allowing million illegal alien drug caels terrorist enter open bordersliberal retard',\n",
       " 'well dont use anymore id like dslr im broke bitch yeah',\n",
       " 'okay melo bitch',\n",
       " 'daughter think yall think im worry hoe naaaaaaaa',\n",
       " 'call thing da let know dat pussy yo mind',\n",
       " 'bad bitch trying blow like fuse',\n",
       " 'saw men saying arguing woman gaywhats knew yall really try hard bitch attention',\n",
       " 'side bitch wont leave',\n",
       " 'yo bitch dick come crib get passed around love',\n",
       " 'deze hoe got past demon em yolo nigga lol hahahahaha',\n",
       " 'guess got apament downtown columbus thats right bitch guessed guy',\n",
       " 'guy pussy',\n",
       " 'bitch change sta acting like nigga ltltltltltlt',\n",
       " 'got iphone business sidekick bitch',\n",
       " 'friend dumb hoe dont even like',\n",
       " 'cant spell slut without u bitch',\n",
       " 'always good sesh wit niggah blakk',\n",
       " 'boy break new girlfriend couple day later something didnt know abo',\n",
       " 'doug main trash',\n",
       " 'man hoe know',\n",
       " 'niggah said oh kiss phone looking as haha',\n",
       " 'dear desse heaven fang much oreo spooky ball vampire wnzbh',\n",
       " 'yall trash',\n",
       " 'aint nunn cut bitch',\n",
       " 'wan na see bad bitch snap chat',\n",
       " 'fuck bitch calling',\n",
       " 'told yall side bitch w motif powerful u think im sleep',\n",
       " 'nah wu freak got smutted multiple nigga ji cuffed hoe',\n",
       " 'idc phone u got lol silly nigger',\n",
       " 'yall say dating lil girl like mature hoe rampage outside',\n",
       " 'basic bitch chill',\n",
       " 'judge fuckin retarded',\n",
       " 'accidentally ate pot brownie guess go pledge drug free life lolz lmao',\n",
       " 'people saying dont let guy treat like yellow starburst thats favorite',\n",
       " 'cute shy bunny',\n",
       " 'saw bad bitch today',\n",
       " 'side hoe need round always play stupid hoe song back back',\n",
       " 'coulda sworn last bitch tunchi ig',\n",
       " 'alyssa ignoring bitch better text back cause im serious u smokey',\n",
       " 'life must ask yourselfare chosen one basic bitch',\n",
       " 'think hoe would tell alll shit im lazy tryna switch shit',\n",
       " 'could viewing future rosecolored glass libra',\n",
       " 'fuck nigga would wan na continue mess messy as bitch v somebody',\n",
       " 'even though baby invisible non existent bitch',\n",
       " 'like bitch wit as u aint shit',\n",
       " 'home one hoe katrina',\n",
       " 'hoe aint loyal',\n",
       " 'made ya bitch sicc wit one',\n",
       " 'street diy hoe niggad try wife though',\n",
       " 'ugly bitch know get crib sun come',\n",
       " 'hoe yesterday youll hoe tomorrow',\n",
       " 'youre attractive think straight guy want friendbitch stupid',\n",
       " 'happy bday bitch as nigga bitch roll',\n",
       " 'lol im brooo bitch janky',\n",
       " 'love bitch say youll remember baby say youll remember love end time',\n",
       " 'ugly gay nigga bitch fucking peace shit',\n",
       " 'used dollar menu spectate mall im buying bitch cause shit want',\n",
       " 'yellow thing sky dont know make',\n",
       " 'time ya make bad pussy behave',\n",
       " 'yall bitch fake shit',\n",
       " 'get something closely approximating full bird paradise yoga pose time make ragdoll cosplay',\n",
       " 'date wit irene nd bitch stood matter fact stood da whole city thanx fucking cunt irene ur as grease',\n",
       " 'kind hoe nae ok hoe anyways',\n",
       " 'want black guy thats wear jordan tattoo bitch thats created player',\n",
       " 'oil said sumthin bout oil bitch cookin',\n",
       " 'gon na find redneck girl one day',\n",
       " 'omg hate bitch fucking laugh shut fuck upppp',\n",
       " 'married skinny bitch trickin wit thick bitch got sum big hip call boa hypocrite',\n",
       " 'riserhyme wear green dance jig sing lively tune w http',\n",
       " 'robinson cano left yankee selling jersey aaron hernandez went jail sold',\n",
       " 'tf bitch lol',\n",
       " 'nigga like got hoe flo swfpgrbliv',\n",
       " 'dont acknowledge hoe',\n",
       " 'get cold yall gon na trash lol',\n",
       " 'vagina flavored bacon bitch',\n",
       " 'stupid loose pussyed bitch',\n",
       " 'one time high school girl told friend needed proactive told needed weight watcher hahaha bitch',\n",
       " 'yeen real nicca yeen got porn site n internet history',\n",
       " 'oreo ice cream cake',\n",
       " 'dont know maybe bitch like man tutu',\n",
       " 'hope charlie strong',\n",
       " 'spy couple thirsty hoe insta',\n",
       " 'go air bad air wheres next brownie',\n",
       " 'whipped',\n",
       " 'youre stupid hoe',\n",
       " 'guy hoe day lmao dont fucking indirect cause put blast who subbin',\n",
       " 'think guinea pig okay',\n",
       " 'yeah yo girlfriend bitch hope got hive',\n",
       " 'lmao whore life bad day better good day youve ever fuck day bitch haha',\n",
       " 'pressure hoe',\n",
       " 'realize ya pussy stank right',\n",
       " 'found arm trash receptacle leg mud streamyou consider keeping better track limb',\n",
       " 'feel like people want commit cut hoe relax sta complacent',\n",
       " 'mariano rivera street outside yankee stadium named giant also similar honor',\n",
       " 'every nigga pressed pussyspecially',\n",
       " 'man fuck flappy bird',\n",
       " 'n dat bitch sound like man dat ya grandma fucc yu',\n",
       " 'pussy cant hairy shit got ta stink lol',\n",
       " 'bitch penetrate introduced bitch',\n",
       " 'fuckin wit nigga getting emotional remind bitch blake',\n",
       " 'aye nigha gone let ya bitch fuck wit team donjuuuan',\n",
       " 'dubya hate today teabagger movement',\n",
       " 'dre drop much cunt illegally download go itunes get fuckin hardcore cd shop',\n",
       " 'yo bitch bitch gone let fuck tonight thursty thursday wesgod cave',\n",
       " 'dez caked bitch something cause he playing like dez bryant',\n",
       " 'come get yo hoe',\n",
       " 'trash im kickin yo as',\n",
       " 'yall fuckin woman men risking ya life freedom im single dolo bitch got ta worry',\n",
       " 'fuck pussy',\n",
       " 'every bitch claim',\n",
       " 'porn place bitch gon table sucking nigga dick eating dinner parent',\n",
       " 'lol need know pussy like one time fine',\n",
       " 'ill actually kill bitch',\n",
       " 'got yo bitch dick whipped',\n",
       " 'single like dollar fucking bitch like im slater aww mane',\n",
       " 'like mock apple im legitimately interested see wearable look like',\n",
       " 'thincc im pretty average bitch ya know',\n",
       " 'fat bitch ruined everything fuck though super burnt',\n",
       " 'bitch nigga want another nigga wcw bitch dont work like',\n",
       " 'suck suck bitch',\n",
       " 'snapchat bitch',\n",
       " 'shara fuck ya pussy know meant mf',\n",
       " 'coon monkey like disgust minstrel show negro cry shit time youre disgrace everywhere',\n",
       " 'im cute without makeup eyelash yall bitch depend shit',\n",
       " 'small man syndrome usually deep theyre huge pussy join authority compensate weak ego',\n",
       " 'sound like prenup he gon na cash apparently ghetto credit magine',\n",
       " 'ghetto as mofos',\n",
       " 'love hide yo bitch youll keep shoy',\n",
       " 'pussy lie pussy',\n",
       " 'yeah im im staing promote belasco thursday u better go bitch',\n",
       " 'one keeping faggot',\n",
       " 'true though lol girl think dont make pussy jump aint shit brah',\n",
       " 'nba allstar weekend unofficial negro holiday',\n",
       " 'halloween spoopy hoe pimp daddy',\n",
       " 'attention legging aint everybody especially hippo looking hoe',\n",
       " 'ive eaten six pack hello kitty fruit snack today bitch im adult',\n",
       " 'leave beaner retard',\n",
       " 'hate hoe try play wifey roll',\n",
       " 'yall bitch girlfriend halloween since yall sidechiccs year',\n",
       " 'wouldnt proud faze family he horrible one two he ugly trailer trash',\n",
       " 'lmaooooo bitch like goal dumb as nigga',\n",
       " 'im outside im pussy',\n",
       " 'wasnt yankee fan probably would sf giant fan lol',\n",
       " 'someone push hard today may surprised ho capricorn',\n",
       " 'bet make sure bitch involved thats thing floyd pac agree screwed em',\n",
       " 'im goin expecting get slept faggot',\n",
       " 'trash smh game rigged bumgarner took roids',\n",
       " 'omg dot im sure thats give away free bitch',\n",
       " 'bitch watch ya tone drag recycling bin bitch as nigga gon end like limewire ol exe as nigga',\n",
       " 'mom heard song guy bitch long something could fuck world hour something lolol',\n",
       " 'bitch didnt even know fucking real nigga damn sure wasnt one',\n",
       " 'real nigga gone teach bitch game run',\n",
       " 'aha welcome niggah',\n",
       " 'ya friend nag like yo bitch mayne chill tf',\n",
       " 'new twitter confusing shit go back south america bitch',\n",
       " 'lol youve tweeted bitch excessive amount today ok',\n",
       " 'bitch far fuck u got el gran pollo way serf u well',\n",
       " 'love pussy lmaooo',\n",
       " 'versace versace talk shit twitter bitch blocked',\n",
       " 'bitch',\n",
       " 'thanks coming last night ghetto one else could handled',\n",
       " 'audio happy valentine day bitch play get laid',\n",
       " 'let try attempt first day work cold haha yeah right fucked car bitch',\n",
       " 'staed wit nuttin hungry got couple nigga bitch want',\n",
       " 'wait nigga get fw ex friend girl fw ex friend hoe lol',\n",
       " 'yeah bitch aint shit tho',\n",
       " 'hit pussy',\n",
       " 'dont kid one queer',\n",
       " 'hahaha high school joke like fake bitch dumb nigga gather',\n",
       " 'bye bye charlie strong',\n",
       " 'lol girl make fun guy like light voice im like bitch voice like deeper five men together wtf',\n",
       " 'rudy gay faggot changing last name got money',\n",
       " 'ugly people taken nerd taken hoe taken everybody taken',\n",
       " 'blatantly believe men look creepy shit ghetto as mustache',\n",
       " 'bitch fucking told sit seat yo dumbass come saying sitting bitch',\n",
       " 'yellow paris fantastic effo last stage grab',\n",
       " 'poppy give discou bitch get lowwwww',\n",
       " 'im sure im broke nig',\n",
       " 'buy tattoo wife girl bitch',\n",
       " 'yall female love yall bum nigga jail bird',\n",
       " 'shes aint bitch shes tired bullshit attitude towards based upon treat',\n",
       " 'washing coon hair',\n",
       " 'help eliminate faking injury diving post game video review dive give diver yellow card game',\n",
       " 'never get group hoe together witout em resoing hoe',\n",
       " 'adult human skull found trash',\n",
       " 'lol shiiiiiit one day gon na golden statue lickin da shit pussy',\n",
       " 'isnt tea anymore bitch peep everything still getting cheated something addin',\n",
       " 'bout time bitch',\n",
       " 'moderator want bitch slap romney hard',\n",
       " 'happy bihday bitch',\n",
       " 'always say dont love hoe yet yo girl hoe',\n",
       " 'naawww though yall hoe fu dont fucking play wme',\n",
       " 'aint retarded he cousin lmao',\n",
       " 'hu imnot wtf fuck danielle bitch',\n",
       " 'text bitch make wish come true',\n",
       " 'said smoking strong wrong smoking trash aint lung aint pressure',\n",
       " 'go take summer binging alll fly bitch bless atl thank',\n",
       " 'laughing thats hoe',\n",
       " 'im beautiful bitch',\n",
       " 'girlfriend im never getting close boyfriend friend cause telling one thing telling hoe another',\n",
       " 'wont catch sneak dissing thats fo bird',\n",
       " 'go eat pussy smell tangy',\n",
       " 'niggah though daniel lol',\n",
       " 'hoe',\n",
       " 'clubbing every weekend leaving child baby momma dont wan na hear bitch child suppo',\n",
       " 'bitch',\n",
       " 'bitch called yu back lie',\n",
       " 'school wouldnt give kid schedule',\n",
       " 'subway worker major bitch soldier come show respect',\n",
       " 'ion feel dese nihhas bitch',\n",
       " 'yall dumb as nigga pressed hoe yall weak fuck fuck weed hoe oreo',\n",
       " 'fuck try fuck ya niccas girl buster lol',\n",
       " 'kim k lil sister hoe',\n",
       " 'fuckin pirelli tire black as nigga whit white boy shi nigga loosen lil bit',\n",
       " 'he making sure ok bitch',\n",
       " 'cause somebody put bad front yall okay called bitch',\n",
       " 'lol eatin da shit outta sum pussy ill never serial pussy eater tho',\n",
       " 'theyre calling wind going make lot girl clam really sandy',\n",
       " 'girl retarded',\n",
       " 'he clue',\n",
       " 'fat bitch wearing ugly as jesus sandal big as foot overlapping damn thing',\n",
       " 'pussy',\n",
       " 'many pretty bitch coming bihday dinner',\n",
       " 'ha yous lonely hoe',\n",
       " 'ever see bitch comment vine like oh god thats knowin damn well would neva shit like lmfaaoo',\n",
       " 'u aint never pregnancy scare pussy trash lady',\n",
       " 'zach huggins tell yo bitch leave tf alone',\n",
       " 'nope btw yous hoe lol',\n",
       " 'pussy ur mouth really good stress reliever doctor recommend',\n",
       " 'kannie vonnie tiny as bitch hated crissi staed calling u little body bitch hawaii',\n",
       " 'youre pussy',\n",
       " 'bad bitch aint cheap',\n",
       " 'beautiful fairy pool near glenbrittle isle skye scotland',\n",
       " 'yost posmouth biggest white trash county nation',\n",
       " 'hoe wanta',\n",
       " 'caught bitch cheatin work shes dude tryin get fuck slittin throat cut bitch head',\n",
       " 'like said might check im sure bird shot count getting shot',\n",
       " 'stop retweeting heather im tired seeing bitch tl',\n",
       " 'bitch may best friend cover ate',\n",
       " 'hey bitch minivan stop riding as power vehicle stop already',\n",
       " 'bout put hoe backpage try pimp hand',\n",
       " 'throw throat thursday make ghetto gaggler',\n",
       " 'give head kiss yo bitch ill nigga',\n",
       " 'bitch eyebrow lookin like bull logo',\n",
       " 'go college pay dont see bitch',\n",
       " 'bad bitch pussy aquafina call crystalina',\n",
       " 'dont trust hoe aint loyal',\n",
       " 'youve got smelt lot manure sing like hillbilly',\n",
       " 'charlie ol hatin fool',\n",
       " 'didnt sell pussy',\n",
       " 'clam comedy writer',\n",
       " 'fat bitch act like couldnt follow back ive always wanted fat bitch follow',\n",
       " 'fuck faggot',\n",
       " 'saw pick dime floor toe apparently monkey toe gene strong one',\n",
       " 'phone go class teacher say turn trash song mixtape httpst',\n",
       " 'bitch talking fuck bitch u need help yo im hearing vocies head',\n",
       " 'fan waited bitch nigga hated old hoe dated look mama',\n",
       " 'someone tell stop bitch',\n",
       " 'innovative idea unresolved issue relating ho libra',\n",
       " 'metaphor dumb fucking nigger',\n",
       " 'working hoe',\n",
       " 'many faithful girl single many hoe taken',\n",
       " 'bitch still go',\n",
       " 'love bird flame thank song',\n",
       " 'broad day moe eah nigga rihanna prolly sexiest bitch eah',\n",
       " 'bitch mcconnell year parasite afford longer vote',\n",
       " 'also hiccup jihadi propaganda poray one willing die cause',\n",
       " 'cant stand fat bitch next hairy as leg kiss imik',\n",
       " 'wtf bitch',\n",
       " 'ok reason god make parasitic worm whose sole purpose burrow eye small african child',\n",
       " 'got good girl dont turn bad bitch',\n",
       " 'bitch got zero kill yet got legendary enngram absolute fuck',\n",
       " 'mom clueless whats going lol like cant trust negro witcha money lmfao whaaaat',\n",
       " 'going talk shit least back fight bitch as nigga swear u nigga fake pussy boy',\n",
       " 'bruh dont female swear best friend baddest bitch world',\n",
       " 'fam aint nothin cut bitch vincent van gogh',\n",
       " 'happy easter diy son bitch',\n",
       " 'instead joining spos team hoe joining twerk team',\n",
       " 'dance monkey dance',\n",
       " 'son bitch moment rain forget car window',\n",
       " 'alaska nothing going nothing nothing bitch law',\n",
       " 'would u know dont fuck exactly dont wtf got shut retarded as',\n",
       " 'east coast there colored hair everywhere must sweetest wave ever',\n",
       " 'lakers kobe trash',\n",
       " 'hoe trife never cuff ive hu never give fuck',\n",
       " 'aye da fawking ginzo fawking queen fawking nassau',\n",
       " 'ion like bitch slick shit straight nd let know wassup',\n",
       " 'saw man actual conversation bird haha',\n",
       " 'fuck hoe bigger problem like cook house lol',\n",
       " 'bitch please dont get shot doug',\n",
       " 'let faggot already cry sleep',\n",
       " 'wish would chase hoe',\n",
       " 'wassup pussy',\n",
       " 'nigga bitch hoe bitch ion see difference',\n",
       " 'he cheating wetback',\n",
       " 'kicked soul outta dis bitch httpstco',\n",
       " 'hard qa time also pain mock unit test',\n",
       " 'international law enforcement operation disrupts shylock banking malware pcworld international law enforcem',\n",
       " 'really want brownie hr iced latte boy blanket w movie sound prettttttty amazi',\n",
       " 'tired butthu commercial ya phone trash b dont want em',\n",
       " 'lmfao oh forgot texting u told u text need buy salad bitch hungry',\n",
       " 'nicer easier youre hu bitch',\n",
       " 'wont bite promise he friendly bird',\n",
       " 'hoe aint loyal',\n",
       " 'bitch',\n",
       " 'bitch talking abt bitch face',\n",
       " 'kanye might first nigga successfully save hoe original tweet',\n",
       " 'lol autocorrect bitch voice recognition much faster typing',\n",
       " 'hate people get bad side cause honestly dont like act like bitch',\n",
       " 'fuck bitch fucking piss take second take fucking minute',\n",
       " 'didnt mock anything asked believed noah arc said mocking religion opinion thats',\n",
       " 'thats meanssome kid called like morning asking wanted hit slope',\n",
       " 'pussy',\n",
       " 'shut bitch',\n",
       " 'mute pussy smh',\n",
       " 'great lead battle ricky hit danica yellow oh boy',\n",
       " 'would cripple military',\n",
       " 'im long beach california people automatically think ima badass bitch hahha',\n",
       " 'hate niccas lol nqsyeqhgoz',\n",
       " 'sick bird',\n",
       " 'im coolin know ole shit different day nig',\n",
       " 'cant trust bitch let microwave hit doesnt care lifeshe probably jump lava pa',\n",
       " 'twitter whats mean come alive night time sleep day hoe night',\n",
       " 'bitch must b jojo world',\n",
       " 'trill nicca since lil nicca',\n",
       " 'faggot',\n",
       " 'mushroom mountain twice who countin nothin compare blue yellow purple pill fmjlvmeqdo',\n",
       " 'need bitch top till get sleepy',\n",
       " 'cunt',\n",
       " 'hoe really would sit face act like puttin world relationship fuckin whole',\n",
       " 'redskin gon na win thats im saying night',\n",
       " 'bitch begrudgingly fuck likeman big bad man cry like bitch',\n",
       " 'lib hypocrisy ale ban bossy bitch okay httptc',\n",
       " 'want clam half shell ufcajnnqtz',\n",
       " 'got ta hoe smh aint captain save hoe',\n",
       " 'im comma bitch period',\n",
       " 'dont think woman wear flesh tone colored pant lol',\n",
       " 'date u dont even got ta worry bout talking hoe cu aint got',\n",
       " 'hate taking shit public place bc feel like faggot im placing toilet paper toilet seat',\n",
       " 'kanye new video bitch made mane bruh gone throw shot barrack den come wit dat shit',\n",
       " 'yall know skip bayless slit wrist romo lol',\n",
       " 'gone kill bitch nigga dont girl',\n",
       " 'aint bitch got license',\n",
       " 'idk bitch think player lol bitch zero game',\n",
       " 'dont love hoe',\n",
       " 'beat pussy well shit still huing week ago',\n",
       " 'live bird found elmo doll usmexico border',\n",
       " 'photo filtering bitch',\n",
       " 'still nig',\n",
       " 'hoe without sex ask girl texting alotta nigga time',\n",
       " 'lil dumb as bitch aint fuckin wit chu got million trillion thing id rather fuckin fuckin witchu',\n",
       " 'hate fag answer yes',\n",
       " 'saw black nra skit vile youre funny fan anymore',\n",
       " 'feel like mouthpiece cold ill give lesson every niggah ever got turned low cost hmu',\n",
       " 'hate bitch come school musty like tf walk house stank mama aint shit',\n",
       " 'bitch voice',\n",
       " 'raven symones hair like im colored im american',\n",
       " 'smoke good weed bad bitch',\n",
       " 'see thru fake bitch nigga',\n",
       " 'cum thru bitch',\n",
       " 'im sorry called gaptoothed bitch fault youre gaptoothed',\n",
       " 'bitch dont wann fxck bitch wan na fxck bitch',\n",
       " 'im year old gay driving back road redneck virginia blasting cheetah girl doesnt scream sitcom',\n",
       " 'thanks scaring absolute fuck flatfoot look like pussy fucking jerk',\n",
       " 'los bitch told name sta could fucka b c got',\n",
       " 'fuck yo bitch cant',\n",
       " 'lmaooooo bro still got shit hoe boxing come back nigga',\n",
       " 'nigga impregnating basic bitch job dont know drive car money house n wonder miserable',\n",
       " 'white boy talmbout ight ill see tomorrow school nigger',\n",
       " 'blaxican',\n",
       " 'somehow u didnt already go im nig',\n",
       " 'beg nude could fuck bitch make video staring get booty win win',\n",
       " 'watch stop talking bitch still tweet',\n",
       " 'bitch bout make commit murder',\n",
       " 'used fat bitch everybody made fun look made fun ugly',\n",
       " 'better pipe pussy wth even mean',\n",
       " 'bet shes new york yankee prog',\n",
       " 'trash plain fuck come elephant print',\n",
       " 'want monkey bread',\n",
       " 'why bitch wearing striped tshi nike shock',\n",
       " 'dont blame crash sharing youll probably talk trash like food truck',\n",
       " 'pretty boy face awee thanks faggot',\n",
       " 'parent nd giving kid ghetto as name ronkieshietta bro serious tipped scale fa',\n",
       " 'way rap fucking bitch banter money enteaining crazy',\n",
       " 'hit bitch bottle',\n",
       " 'nigga say worst bitch shell still feel validated long would fuck',\n",
       " 'realize youre trash',\n",
       " 'still dont understand bitch high shool would put false eyelash every fucking day',\n",
       " 'lmao soft as nigga trying act tough little bitch sit watch sideline pussy',\n",
       " 'ok nigger raw',\n",
       " 'fight den hoe',\n",
       " 'got ta love islamofascist cow try make reto age typical muzzie idiocy',\n",
       " 'blaxican',\n",
       " 'lmao im year old im tryna fun im hoe',\n",
       " 'im wearin one walma jacket around walma ghetto lmao fuck',\n",
       " 'nigga fucked virgin expecting scream wasnt even moaningbitch virgin fa',\n",
       " 'styl got ta get dem tweet nig',\n",
       " 'lol bitch act like single post picture nigga hahaha',\n",
       " 'people bitch as nigga stay far away',\n",
       " 'dumb bitch dumb thing',\n",
       " 'lol u faggot know bghtsjipne',\n",
       " 'unpunished view many thousand year civilised uncivilised society',\n",
       " 'hey cunt miss',\n",
       " 'yall forget brand new baby girl home bitch cooky burning',\n",
       " 'naw drop bitch south dallas rest homeless dog',\n",
       " 'dont bitch man lol',\n",
       " 'dont fight want fight bitch dont know fuck fuck look like nigga please',\n",
       " 'sister bitch',\n",
       " 'bushco used publicly trash exofficials wrote book snow oneill etc bet wont hear pbo trashing gate',\n",
       " 'lmaooo boy thought w type right spelling hoe',\n",
       " 'da fuq ho',\n",
       " 'didnt lose city red sox fan bandwagon fan like yankee fan',\n",
       " 'dont like dat magazine da black folk look like dey one chromeasome away da ape',\n",
       " 'yall tl need sleep yall got school tomorrow bitch got straight ion need go',\n",
       " 'im trying come back fine as bitch next lifetime',\n",
       " 'insult even selfdeprecating first thing straight go faggot queer tranny gay even supposed ally',\n",
       " 'key open door key albino',\n",
       " 'got kicked aa class bc laughed guy called pussy blacking every time drank',\n",
       " 'rise planet ape',\n",
       " 'idk planet bitch work planet eah following supervisor instruction mean im resistant',\n",
       " 'atf charge prosecuting case republican wont confirm director lead agency',\n",
       " 'ounce niggah',\n",
       " 'pussy aching ur follow bae',\n",
       " 'free ticket couldnt go chemistry aint bitch',\n",
       " 'trying hoe todd gurley johnny manziel signed helmet got suspend gurley rest season',\n",
       " 'hoe gay thats',\n",
       " 'bad bitch every',\n",
       " 'whats going pussy',\n",
       " 'hate seeing people money spend stupid shit dont need tv shark tank twat',\n",
       " 'bitch always said wan na fuck real nigga',\n",
       " 'hoe aint loyal aint',\n",
       " 'flabby bird sound turrible lol ill stick watching paint dry',\n",
       " 'like wassup bitch huh nothing thats thought hoe lt',\n",
       " 'see hoe talking bae even level',\n",
       " 'trying resist urge smack bitch',\n",
       " 'im getting spanked fantasy beating damn new england game julian eldman trash',\n",
       " 'donna tax gon na go',\n",
       " 'happy another group day weird as son bitch thats love though hoping riot htown',\n",
       " 'lying as bitch vguclaennt',\n",
       " 'fuck hoe got award already',\n",
       " 'sex position naw u call fucking soul outta bitch',\n",
       " 'sick bitch',\n",
       " 'gta online today bitch as nigga',\n",
       " 'high bitch bong rip steady smoking g nigga jorge',\n",
       " 'hairy pussy',\n",
       " 'rich homie bird man gone mansion tonight',\n",
       " 'home coon',\n",
       " 'michael pineda next sta',\n",
       " 'swat twat',\n",
       " 'never argue bitch thats bottom food chain',\n",
       " 'napk bitch retarded stupid wtf would request didnt read bio pretty',\n",
       " 'bitch dont nobody care',\n",
       " 'movie cant wait see fail im going killer ape shit michael bay',\n",
       " 'yeah okay let put fire cracker cow pie see happens',\n",
       " 'maryjanemilitantque got bomb azz pussy lol',\n",
       " 'new bottom something else put nair pussy gram ok',\n",
       " 'papoose trash bro lol',\n",
       " 'bitch nigga miss',\n",
       " 'weve tried time go sits silence cry like bitch sweat',\n",
       " 'got ta phone avi texting got negative bitch',\n",
       " 'charlie rose coexist israel meshal occupier national consensus decide ha',\n",
       " 'anal gaping tranny play panty nylon pa',\n",
       " 'bitch dont like always gone think ugly',\n",
       " 'ray rice bitch xans lean one punch',\n",
       " 'say one man trash next man treasure one find pain next might find pleasure',\n",
       " 'yall hoe believe anything though',\n",
       " 'got problem bitch aint one shes em need michane gun',\n",
       " 'love bitch',\n",
       " 'fuck bitch smd',\n",
       " 'oomf fake bitch as nigga point blank period smh awwww shittttttt',\n",
       " 'fly bitch aladdin rug',\n",
       " 'jihadis claim shot army mi attack helicopter beji identify pilot name rank',\n",
       " 'weeknd make muzik hoe b im tryna meet woman talkin bout',\n",
       " 'lmao bitch dumb slap',\n",
       " 'posted photo yankee stadium',\n",
       " 'distance fucking bitch',\n",
       " 'check yer phone nigger',\n",
       " 'many fuckin fag even get shouldnt allowed wallet whilst influence haha',\n",
       " 'need ut expose hoe page hmmmmm',\n",
       " 'germany likenext goal header next goal diving header let play monkey',\n",
       " 'single lady v cuffed hoe',\n",
       " 'shyt b pissing ugh stand bitch like smh',\n",
       " 'pickup line cat lady love pussy wait literally meant like cat',\n",
       " 'need real bitch',\n",
       " 'course win lose always exciting match spilt blood arent trash talker',\n",
       " 'nobody ever got famous whiny bitch either change thing make unhappy whining turdfarmer',\n",
       " 'hear redneck someone show nigga play',\n",
       " 'esj got ugly hoe yeah leon g student aint making better em fugly aint lyi',\n",
       " 'jihadis identify man one carried massive suicide bombing speicher camp',\n",
       " 'auro keep calling ghetto',\n",
       " 'note day month hoe selling pussy pop lol',\n",
       " 'girl good pussy possessed demon fact',\n",
       " 'know hoe wishy washy',\n",
       " 'pilot seen eye said awfully red told get high bitch im man',\n",
       " 'sometimes even got ta tell hoe grow smh',\n",
       " 'need new bitch',\n",
       " 'burn bitch',\n",
       " 'bitch',\n",
       " 'cant yankee make last week move',\n",
       " 'bitch talk boyfriend keejvwbgbr',\n",
       " 'remember got crush aim screenname felt fuzzy inside stared screen figured',\n",
       " 'yea spell check bitch let stay topic',\n",
       " 'truth dont love hoe',\n",
       " 'cry like bitch every time chief fan friendly debate',\n",
       " 'youre bitch hate',\n",
       " 'approach yo bitch like',\n",
       " 'congrats amos',\n",
       " 'damn lol censored redskin bitch let fucking go fuck eagle bout burn bitch httr',\n",
       " 'go sleep faggot',\n",
       " 'got ketchup swim trunk sum bitch',\n",
       " 'yall female really cool cuffin hoe as nigga nope couldnt',\n",
       " 'u fucken bitch wifi',\n",
       " 'redneck land',\n",
       " 'im way league hoe please excuse ego',\n",
       " 'didnt know blue yellow',\n",
       " 'id rather ask nappy headed hoe grandma well id ashamed family',\n",
       " 'know bird dont wear pant cause pecker way',\n",
       " 'grape crackhead charlie brown',\n",
       " 'ive went fag day happy',\n",
       " 'niggah lying',\n",
       " 'seven gram blunt almost drowned pussy swam butt quote weezy verse',\n",
       " 'guess niggah believe ya thats proof ya name lot thing man wont ya',\n",
       " 'showing fairy blocked',\n",
       " 'dork fucking bitchmagnets sorry',\n",
       " 'bitch sucked dick tried give sugar bitch get',\n",
       " 'fucking block white as try sta shit like fucking queer fuck nigga',\n",
       " 'yea mike bitchass referee tokyo',\n",
       " 'bitch wea going',\n",
       " 'fuck lux knowledge mooks presence delivery connecting people crazy',\n",
       " 'austin mahone making bitch horny right',\n",
       " 'im waiting little bitch whined bush sta speaking obama war',\n",
       " 'got ta able keep bitch foot shell knee next nigga',\n",
       " 'hate bitch thirsty as bitch',\n",
       " 'smack hoe as like bihed bitch',\n",
       " 'im full suit bow tie restaurant called frat bitch as niggacaught bc im around white ppl staring lol',\n",
       " 'hilarious seeing chick cry whine song lyric got little scene fag instead real man',\n",
       " 'ugh fuckin hate bitch dont answer call ewwwwwww',\n",
       " 'fuk wit real nicca',\n",
       " 'said tl got ta chill pretty face challenge foolishness yall hoe agg',\n",
       " 'photoset biggest pussy seen china',\n",
       " 'point bitch like dirk nowitzki da club like dirk nowitzki',\n",
       " 'ridin round blowin loud fuck hoe crowd lil reeses verse lil nigga hip hop classic',\n",
       " 'idk let redneck shit ask samuela',\n",
       " 'ran house im kinda retarded lol',\n",
       " 'toss em office throw em trash politician run httpst',\n",
       " 'seen dude wearing black white outfit pyrex shos shes getting pussy tonight',\n",
       " 'cuh scrum finna smash bitch',\n",
       " 'shit whats hoe ill hoe pretty sure u level',\n",
       " 'moved niggah anyways',\n",
       " 'welcome nig',\n",
       " 'hoe think cute take picture kissing eachother',\n",
       " 'hoe bruhhh lol',\n",
       " 'fucking chink clash clan always fuck bitch as kamikaze faggot',\n",
       " 'gay stfu dumb monkey',\n",
       " 'iggy wan na black bad ur white widow hoe',\n",
       " 'molly make bitch crazy',\n",
       " 'want go pumpkin patch love bird make date rest u uncomfoable',\n",
       " 'hate hoe caption shit lol shit hella cheesy',\n",
       " 'learnt bird child best time learn',\n",
       " 'happy bihday bitch',\n",
       " 'got time hold phone whole time sex yo pussy trash',\n",
       " 'based nigga bitch look',\n",
       " 'suddenlink trash yall know impoant bubble guppy day',\n",
       " 'since derek jeter multihit game v among behind gehrig ruth',\n",
       " 'black girl hoe cause fuck nigga money revenge dumb shit like',\n",
       " 'got ta keep sox theyre',\n",
       " 'get gwop bitch remember',\n",
       " 'subtweet one time diy chink whore',\n",
       " 'dont worry bitch use fuck wit',\n",
       " 'heat make wan na put hand niggah',\n",
       " 'text plan nigs',\n",
       " 'niggah hurry',\n",
       " 'sweet innocent schoolgirl minami asaka pussy',\n",
       " 'awwww niggar thank much sure mean lot',\n",
       " 'even humming bird like stuff',\n",
       " 'said dont like fact smoke cigarette well sorry mrsladybitch dont like fact youre hoe',\n",
       " 'got money dont need u bitch',\n",
       " 'chris brown got chill button sell bitch social medium tho like even subliminal buddy took time',\n",
       " 'yaaaassss bitch sad dont like cause friend dont thats basically girl work',\n",
       " 'im beating bitch jay jay as see nigga really ovum dead tho',\n",
       " 'jesus walk bitch',\n",
       " 'clowney bitch nigga get as team',\n",
       " 'tha bad bitch need go conce bham tonight',\n",
       " 'love white noise love delillo resisted reading house leaf year mock shelf',\n",
       " 'bitch come pull titty merrie',\n",
       " 'fact tattoostattoo he pussy tattooing nipple',\n",
       " 'ya pussy stank',\n",
       " 'oreo coffee brunch want',\n",
       " 'need million dollar bc got bad bitch',\n",
       " 'want tell washington post charlie crist democrat lgzzyusekz',\n",
       " 'could died called mom bitch lmao',\n",
       " 'bitch help',\n",
       " 'god would sell nut watch lebron tear acl right watch pussy kill',\n",
       " 'love getting nude bitch',\n",
       " 'fat bitch turnt ice cream gon lie would httpstco',\n",
       " 'run ya spot smash ya hoe fuck ya couch',\n",
       " 'larry cucumber tweet funny af bit much young bitch might cry',\n",
       " 'give bitch amex gon na act like chilly snob try go get cardigan',\n",
       " 'think rice fag mcdonalds',\n",
       " 'atleast let knowur faggot u keep type twitter secret',\n",
       " 'statement day ppl even dumber ole bird feather type deal',\n",
       " 'girl wear bathrobe still cuz really cute fuzzy bathrobe victoria secret even ok wear',\n",
       " 'mum agrees ur wee moody cunt cani deal fact im right',\n",
       " 'thanks follow hun',\n",
       " 'please little depressed bitch entire time',\n",
       " 'lot tweet medium tonight election night food record cheese cracker',\n",
       " 'got ta get rid trash as alex smith',\n",
       " 'text fag',\n",
       " 'sometimes im like wow bitch audacity talk shit look life look mine',\n",
       " 'lol hell naw fuck dat one swing swing bitch one gone get punch rest gone get punched tf lmao',\n",
       " 'take bitch soho froyo tell gon blow romo',\n",
       " 'jamaica populated island hillbilly even linguistics kind sub accent olde english derivative',\n",
       " 'bitch edgar',\n",
       " 'soo hanging makin brownie',\n",
       " 'weird frosted colored lipgloss weird',\n",
       " 'bitch im back home',\n",
       " 'nig kkeldalegend took good old new orleans soul food vcbkacqbhv',\n",
       " 'lol benghazi hearing proved nothing republican care taking pbo',\n",
       " 'thats fucked bitch fw talk hoe claim dont fw funny',\n",
       " 'ugly hoe love fight lmao aint got none lose',\n",
       " 'jig',\n",
       " 'yea forgot talkin degenerate faggot',\n",
       " 'dnt use shit hoe',\n",
       " 'nigga still pull tho fuck bitch u stfu',\n",
       " 'nigga fuck pretty girl w head right ho got pair good panty',\n",
       " 'know faggot literally thousand people radar homo',\n",
       " 'lmao harden look like last air bender bitch',\n",
       " 'ha booner twitter ha',\n",
       " 'seegt fine linegt killing doesnt change source creation people',\n",
       " 'bitch',\n",
       " 'hope shes larger bird',\n",
       " 'ion speak flaw nigga thirsty hoe ig boyyyyyy look',\n",
       " 'jet trash bad see meant',\n",
       " 'hard getting bitch hood suck dick camerashe swear everybody know herand hate light',\n",
       " 'pussy must pop severely im single zhojnaokme',\n",
       " 'fuck dancehall shit thru bitch',\n",
       " 'lick pussy crack',\n",
       " 'aint fuckin wit nomore hoe got want',\n",
       " 'game pissing including bitch',\n",
       " 'doesnt wife bitch',\n",
       " 'side bitch basically new relationship staedan addition problem already primary woman',\n",
       " 'christian massacred jihadi muslim slept including pastor wife kid',\n",
       " 'didnt call bitch saiddd bitch',\n",
       " 'shit chunky lol',\n",
       " 'bitch lol',\n",
       " 'threw hoe away also threw yo life away',\n",
       " 'al je syrie tweet volg maar zij komt er vandaan zal je precies uitleggen hoe wat',\n",
       " 'bid go date zack morris oh dreamy son bitch',\n",
       " 'bitch like text emojis',\n",
       " 'fuck lancaster bitch',\n",
       " 'back bitch',\n",
       " 'hate wen hoe lie say fucked em',\n",
       " 'aye hoe sta coming dont forget put wont',\n",
       " 'hey faggot spell faggot right dipshit',\n",
       " 'youre little bitch',\n",
       " 'stfu prude as basic as bitch',\n",
       " 'naw deez aint hoe u gota add mo',\n",
       " 'oops freudian slit',\n",
       " 'hate bitch get lame',\n",
       " 'luv riding sour drunk fan loss',\n",
       " 'row hoe curl girl plank skank deep cut slut quad broad pecs n',\n",
       " 'love marry still queer messy funny fabulous dramatic community weve always love u',\n",
       " 'knew gettin pussy later yakked look stoned hell',\n",
       " 'got problem bitch aint one shes think need sub machine gun',\n",
       " 'get as back detroit ya fuckin wigger',\n",
       " 'percent yo bitch percent scrap',\n",
       " 'get paid chill share wealth lil nicca',\n",
       " 'cock slappin bitch since',\n",
       " 'hoe trash',\n",
       " 'lmao joe calling whitehouse offering advice yeah president care disgraced former redneck house guy fl say',\n",
       " 'lmao lmaooo im hoe im people person',\n",
       " 'getting money aint worried bout hoe',\n",
       " 'u finger bad light skin bitch',\n",
       " 'could bitch right ill restrain',\n",
       " 'sta another yellow jacket season tonight jacket fan',\n",
       " 'hoe bro hoe',\n",
       " 'main nigguh since digital camera selfies',\n",
       " 'lol hate really dont give shit ive either done nothing bc youre bitch',\n",
       " 'grown shit bird',\n",
       " 'porn star fancy talk professional hoe',\n",
       " 'building pussy lmao',\n",
       " 'u bitch',\n",
       " 'ill purposely read message know read reply bitch like',\n",
       " 'dont hillary verbal response aggressive interaction suggest either brain damage need med maybe shes bitch',\n",
       " 'okay michael sam mock manziel johnny mocked sam pretending dick mouth hed get',\n",
       " 'bitch love mosa sippin coca',\n",
       " 'top tip day want inconspicuous elbow gig dont wear yellow jacket kqyizmzb',\n",
       " 'thanks charlie',\n",
       " 'today joint joint joint reserve wit niggah',\n",
       " 'ion fb nigga twitter aint worried ig nigga foe everybody try bffl got hoe',\n",
       " 'pop pussy single',\n",
       " 'retarded love always retarded',\n",
       " 'eating woman pussy good soul',\n",
       " 'sold weed bitch who gon na lawyer bet shell nigga back',\n",
       " 'youre pussy',\n",
       " 'bitch fake gay',\n",
       " 'bitch',\n",
       " 'live gay cant afraid two black dick butt fucking queer',\n",
       " 'im sick head cold suuuck top challange beer chug',\n",
       " 'cant find lookin cuz busy likin bitch time',\n",
       " 'jean ski as hoe',\n",
       " 'as perfect cant help yall dis hoe praise nicki minaj everyday dont understand nigga man',\n",
       " 'fr mane shit cuff made happy one night cause hoe everybody fr',\n",
       " 'yah bitch thirsty',\n",
       " 'dont trust bitch dog em',\n",
       " 'da new bae bitch bad naw lmao',\n",
       " 'nigga fuckin faggot httpstco',\n",
       " 'nigga without warm traveled like bitch',\n",
       " 'prefer jameis winston speak tv damn coon',\n",
       " 'even young kardashians hoe lol',\n",
       " 'boot u hoe nigga girl take bc hoe',\n",
       " 'squirrel faggot b',\n",
       " 'please thanks pierced pussy come across timeline',\n",
       " 'lil riri sittin pretty u bitch layin petty',\n",
       " 'lol feel like punk bitch sittin light',\n",
       " 'make salad vegetable bitch give break potato salad',\n",
       " 'almost child balochistan never school followed sindh kp punjab',\n",
       " 'bitch im concerned',\n",
       " 'bitch love nigga copy',\n",
       " 'im man around bitch baby check wrist watch',\n",
       " 'photo seriously friend hoe funny nbnbgycfmi',\n",
       " 'hate people ask tryna look good bitch bye',\n",
       " 'people lucky deal customer phone thered lot choked bitch done person',\n",
       " 'yeah hoe baby innocent lol gabriella still got sister bihd',\n",
       " 'typically hateful antichristian mentally ill ugly dyke trash pig couple jennifer mccahy melisa erwin',\n",
       " 'fuck right pussy',\n",
       " 'typical hoe costume cat nurse bunny police officer',\n",
       " 'hoe deserve kick vagina lucky aint tryna loose shoe',\n",
       " 'positive thought nig nog',\n",
       " 'day hoe twerkin new weave',\n",
       " 'bitch fuck dad',\n",
       " 'againhello hardin county everyone know hoe named ashley hsn',\n",
       " 'suck dick dip shes keeper true redneck woman kims dad',\n",
       " 'record dont care unless got ta see every sexuality even bird dog',\n",
       " 'dame type bitch go jail meet men',\n",
       " 'faggot sack',\n",
       " 'got damn lakers trash',\n",
       " 'bout bust bitch wide open waste money',\n",
       " 'wtf bitch broke arm eery time hit shit httpstco',\n",
       " 'retarded pussy game',\n",
       " 'phaedra gon na drop apollo like mariah da brat went prison hoe aint loyal',\n",
       " 'know youre calling fag',\n",
       " 'nigga vic acting like yellow bone follower cant answer nigga phone',\n",
       " 'ugly bitch like argue lot',\n",
       " 'damn cuh alu mohe nigga make sure alu polosi ho nifo',\n",
       " 'soooo cute probably hoe lot',\n",
       " 'people tend bitch coaching much offensive playcalling killed ag indefensible point',\n",
       " 'would rather fuck fat chick allow nigger house',\n",
       " 'mention probably look like septic tank go ahead meme',\n",
       " 'aint killer dont push revenge like sweetest joy next getting pussy',\n",
       " 'cant stand nigga curve boy hoe',\n",
       " 'junior still pussy',\n",
       " 'awwe love jenny damn perf ugly seriously dis bitch must blind',\n",
       " 'come never bring food dont car retard',\n",
       " 'better nig lol anything ill flip u something im tryna get cash',\n",
       " 'yall bitch',\n",
       " 'ohh btw get call blame bitch keep signing people bc want gym buddy lol',\n",
       " 'dog hoe one hoe',\n",
       " 'bitch nigga shit invented created term',\n",
       " 'free hoe',\n",
       " 'listen bitch cheat bitch soooooo hu bitch cheat back',\n",
       " 'must realize much game mean u hillbilly play game year sh',\n",
       " 'pussy stay wet shes around got ta lick till wetter never',\n",
       " 'hoe lost hahaha much wan na bet dont get job lmao',\n",
       " 'im steady tellin dis bitch gtfo face',\n",
       " 'caught talking bird pretty embarrassing',\n",
       " 'nah bitch ugly',\n",
       " 'lol maybe give nd date hoe date know work lol',\n",
       " 'yeah ok nigger',\n",
       " 'trash wheel twitter googly eye',\n",
       " 'cant get many hoe flexed last night',\n",
       " 'along french blue buggs bunny vii oreo iv',\n",
       " 'ill beat pussy hard',\n",
       " 'clever monkey',\n",
       " 'drop hoe wrong one got ta bring em back vubkmfqyaj lmfaooooooo',\n",
       " 'awww dis sellout nigguh still talking',\n",
       " 'hate best friend get new bitch barely chill',\n",
       " 'wan na gim baby look coolieit might could work lol',\n",
       " 'woke cold thenna bitch n stomach flat fr',\n",
       " 'real bitch know',\n",
       " 'well genos ultimate faggot got show queer eat',\n",
       " 'fucking bitch',\n",
       " 'dont give fuck ex bitch isnt problem anymore',\n",
       " 'black typical nigger',\n",
       " 'low turnout repoed charlie crist filed emergency motion extend voting hour broward co',\n",
       " 'every caoon alway saving hoe lmao lmao damn captain saveahoe',\n",
       " 'like folk act like word negro equivalent porch monkey spear chucker real',\n",
       " 'whatever gabby hoe',\n",
       " 'woof woof hot sol',\n",
       " 'big booty bitch big booty bitch',\n",
       " 'im trash ur trash since baes',\n",
       " 'halloween use holiday kid national dress like inner hoe day',\n",
       " 'suck super monkey ball',\n",
       " 'go get left hot car die bitch',\n",
       " 'nigga said woke bed fulla bitch aint een fuckin idc shit bout harder',\n",
       " 'yall female undercover hoe',\n",
       " 'wow bitch yes thats already established anything else say',\n",
       " 'whore slut cunt bitch nigga',\n",
       " 'awww shit lol want money bitch else give one',\n",
       " 'like ur dome',\n",
       " 'msnbc msm said blocking flight africa racist yea right id vote bitch gold digger',\n",
       " 'wayne brady gon na choke bitch',\n",
       " 'lmao ur dad raised u bitch made nigga',\n",
       " 'reaper drone pinpoint jihadi john ibsczelxxe via',\n",
       " 'tried calling sorry as cousin bday hoe aint answer like always big time day lol',\n",
       " 'run niggah ill lose fight',\n",
       " 'remember trash floor car upgraded put wale gifted feel like old car htt',\n",
       " 'ima knock da pussy like fight night',\n",
       " 'nigga gone get room like bitch',\n",
       " 'typical coon activity',\n",
       " 'serious right hypocritical double standard fuck outta face trash',\n",
       " 'bitch curve game serious',\n",
       " 'swear god middle club making wit bitch like im tryna film romantic comedy somethin',\n",
       " 'call hoe hoe rat rat',\n",
       " 'bitch please gon na happen nope',\n",
       " 'dwight couldve instead ugly young hoe',\n",
       " 'instagram song aint bout postin picture hoe allowed post picture aint posting none',\n",
       " 'bad lil sho fine bitch lil petite sumn',\n",
       " 'say nigger love',\n",
       " 'nicki minaj said fuck skinny bitch watch fat bitch come outta time play',\n",
       " 'yaaaas bitch',\n",
       " 'prolly ate ur dadhe hate ok dad bitch really son tho lmaoooooo',\n",
       " 'somebody ask da hoe universal answer shit u got em',\n",
       " 'played great job who retard',\n",
       " 'honky honky motherfucking honky',\n",
       " 'continue bitch thats cool',\n",
       " 'height shit aint cute yall dumb hoe going public looking like jack bean stalk http',\n",
       " 'lmfaoooo im tryna see many hoe lure',\n",
       " 'spark bitch interest',\n",
       " 'leave trash u sick',\n",
       " 'stupid bitch',\n",
       " 'run wildcat let romo run deep post murray bomb bitch tony',\n",
       " 'niggress think shes human',\n",
       " 'lighting pretty as w yellow star lls',\n",
       " 'oreo milkshake forever remind',\n",
       " 'dear mr science human better come cant bird oh im sorry logic',\n",
       " 'unhoe bitch',\n",
       " 'waitkarma',\n",
       " 'hey okrah wake already already know bammy moochie commie stop racist whitey hate crap',\n",
       " 'bitch need bring as fucking practice',\n",
       " 'lol mane shut dat bitch shit youn fucc wit',\n",
       " 'world cup team jihadis rooting',\n",
       " 'really think ppl defending cassidy throw hotel crib bitch comin',\n",
       " 'use trap bird im fly like birdddd',\n",
       " 'almost enough rank buy stuff purple bitch buy exotic guy',\n",
       " 'ill bitch today',\n",
       " 'today sta breaking new pair doc mercy sol',\n",
       " 'turnt af last night shut bitch wit frfr',\n",
       " 'yayyyy im gon na jacking bitch day today',\n",
       " 'release nude cunt',\n",
       " 'still little pussy tomcat',\n",
       " 'glenladen got life flight osu saving dont mess bird',\n",
       " 'im sorry offended called bitch honestly thought knew',\n",
       " 'remember playing halo episode pussy finished chapter without fuck',\n",
       " '',\n",
       " 'rip hoe dying attention',\n",
       " 'bitch trying act like picture',\n",
       " 'give da dick u got ta half stroke da pussy bc u dump dick dat bitch gon become extremely anoyin',\n",
       " 'see pussy need gun',\n",
       " 'u got yo shit pulled upp past yo bellybutton old yoga pant bitch aint',\n",
       " 'hold lebron aint dwade wedding got uninvited leaving miami thats hoe shit see yall quick call brother',\n",
       " 'dont like bitch niggaz dont like',\n",
       " 'wish everyone knew wasnt faggot try hard sketchball',\n",
       " 'bitch internet relationship tho like yous lonely hoe',\n",
       " 'uh long till come newest incarnation im ready two year bitch still go',\n",
       " 'bitch washed aint soap involved',\n",
       " 'ran good game royal niggah',\n",
       " 'many hoe thats',\n",
       " 'tried get rob wop bitch critical',\n",
       " 'outman brandnew girardi never use reliever use',\n",
       " 'pleased proud announced sole curator soundtrack mockingjay pa',\n",
       " 'ima even pretty julisa work magic bitch lol keep stalking ig see perfect want braid hard pick',\n",
       " 'bitch gon na woman',\n",
       " 'bitch say im dog house fuck mean',\n",
       " 'win since pile trash went new orleans',\n",
       " 'bring winter back degree shit bird fukkk outta bro',\n",
       " 'vonte tweeting like bitch finally',\n",
       " 'hand job cum rubber pussy',\n",
       " 'sure slant theyre plagiarist idea',\n",
       " 'finally got medicine cracker',\n",
       " 'took bitch month put scarf smfh',\n",
       " 'hate cute as girl wack af boyfriend like bitch youre settlling quit settling real nigga',\n",
       " 'noll nigga im talm bout tt juice ion hoe em',\n",
       " 'rockin rollin swaggin max bitch fashion killa busy poppin tag',\n",
       " 'seen thot as bitch high top white',\n",
       " 'nigga call female hoe thot min later go thirst porn star',\n",
       " 'dont believe refund hoe',\n",
       " 'bitch want',\n",
       " 'amos hate one upholds justice cou detest one tell truth',\n",
       " 'bitch blew high',\n",
       " 'nigga trippin shoe club tf u wear hoe nigga shoe club shoe',\n",
       " 'man im wish big booty bytches would use nickname judy shy typical old',\n",
       " 'suppose ride got bitch ina back seat',\n",
       " 'ray allen like man thats goddamn motherfucking cunt as bullshit cu',\n",
       " 'arent going stick one garbage recycling im going give single fuck im putting trash',\n",
       " 'main bitch ayyyeeee happy bihday babbbyyy',\n",
       " 'one man trash another man wife',\n",
       " 'assume tranny went morning maximum',\n",
       " 'said aint tricking hoesllsfoolish',\n",
       " 'really expand bitch money',\n",
       " 'friend zone as nigguh',\n",
       " 'take full pride as momma blessed ridiculous level yellow as got back year',\n",
       " 'someone class literally sitting across bus cant even call dad bitch',\n",
       " 'chinese maverick communicating comrade u know giving imperialist yank birdie httpstco',\n",
       " 'homemade soup good vegetable side cracker lirwgwkdze',\n",
       " 'ok tell nigga trash feature never happen fam',\n",
       " 'halloween fast approaching please understand culture costume mock ridicule http',\n",
       " 'fat bitch got picture',\n",
       " 'wtf real stupid bitch cutting kid smoking pot guarantee half smoke pot',\n",
       " 'dumb bitch award go thats uncle sam',\n",
       " 'houston many trash driver',\n",
       " 'find tule find hoe',\n",
       " 'lmaoooooooo woke faggot didnt nigga aint get carded since sophomore b',\n",
       " 'white boy reached flappy bird im done life',\n",
       " 'watching nigger fight youtubevineig',\n",
       " 'literally middle ghetto people look scary',\n",
       " 'gone leave hoe',\n",
       " 'dear utah polynesian stop acting black speaking ghetto speak fob aint ghetto niggaz',\n",
       " 'hell obama flat lied get reelected ltwhat diff make karma bitch http',\n",
       " 'second end whats gon na pull trigger bitch',\n",
       " 'emotional shit absolutely bird',\n",
       " 'let hoe hoe thats know',\n",
       " 'happy bihday take spin yellow coupe',\n",
       " 'fifty buck say dense cunt think say tote reg unfollows bc said cheerleader countdo',\n",
       " 'fuck twitter aint getting bitch',\n",
       " 'wigg love bitch',\n",
       " 'technically nigga touched raped see trendin bitch callin cop lmao',\n",
       " 'use buy tee n wear dem bitch time as lol',\n",
       " 'would bitch said yea never told stay',\n",
       " 'could fuck bowl graham cracker cereal',\n",
       " 'fucking loser wetback',\n",
       " 'thank jackass zebra',\n",
       " 'flaming faggot publicly state want everything handed like fuck dude get bottom as something',\n",
       " 'u eat inbred trailer trash',\n",
       " 'aint got time bitch got ta keep mind mothafuckin rich',\n",
       " 'cause he faggot',\n",
       " 'hate ghetto loud rude ugly bitch bitch already ugly fck got ta loud',\n",
       " 'wish bitch would straight wit friend tell em look ugly really say cute smh',\n",
       " 'idk shes actually lol followed band met bainbridgians bitch like teeth swear lol',\n",
       " 'simple dont hoedont worry exposed fight mewhy',\n",
       " 'bitch myspace going nut',\n",
       " 'youre white arent roll eye rip nigga trayvon wohless spear chucker',\n",
       " 'naw negro',\n",
       " 'csgo bitch',\n",
       " 'im raw problem best song tyga anything trash',\n",
       " 'saw man yellow hat grand canyon today hanging next curious gorge',\n",
       " 'lmaooo find shit funny yall hoe aint content working one nigga boring',\n",
       " 'tuku ho idk blah blah blah',\n",
       " 'brand new day bird chirpin',\n",
       " 'theyre working bill prevent retard voting knew retard could vote thing staing make sense',\n",
       " 'yellow rice black bean pork chop si',\n",
       " 'smile hoe hate',\n",
       " 'nicer easier youre hu bitch',\n",
       " 'beautiful woman havin retarded caption pic sht extra dumb',\n",
       " 'who bitch stephanie',\n",
       " 'naw bitch aint meek mill',\n",
       " 'yall gon na trash spirit airline travel w time even let fly plane time dont mi',\n",
       " ...]"
      ]
     },
     "execution_count": 18,
     "metadata": {},
     "output_type": "execute_result"
    }
   ],
   "source": [
    "from sklearn.model_selection import train_test_split\n",
    "# initial TTS\n",
    "X_train, X_test, y_train, y_test = train_test_split(X_lem, y_lem, test_size=0.20, random_state=15)\n",
    "count = 0;\n",
    "X_train"
   ]
  },
  {
   "cell_type": "code",
   "execution_count": 23,
   "id": "99e40016",
   "metadata": {},
   "outputs": [],
   "source": [
    "# instantiating tf_idf vectorizer\n",
    "tfidf = TfidfVectorizer(stop_words= stop_words, ngram_range=(1,2))"
   ]
  },
  {
   "cell_type": "code",
   "execution_count": 24,
   "id": "1ba806ec",
   "metadata": {},
   "outputs": [],
   "source": [
    "from sklearn.model_selection import train_test_split\n",
    "# transforming tokenized data into sparse matrix format with 20K stored elements\n",
    "X_tfidf = tfidf.fit_transform(X_lem)\n",
    "# X_test_tfidf = tfidf.transform(X_test)\n",
    "X_train, X_test, y_train, y_test = train_test_split(X_tfidf, y_lem, test_size=0.3, random_state=15)"
   ]
  },
  {
   "cell_type": "code",
   "execution_count": 23,
   "id": "78fe1d49",
   "metadata": {},
   "outputs": [],
   "source": [
    "# # taking a quick look at the non zero elements\n",
    "# non_zero_cols = X_train_tfidf.nnz / float(X_train_tfidf.shape[0])\n",
    "# print(\"Average Number of Non-Zero Elements in Vectorized Articles: {}\".format(non_zero_cols))\n",
    "# percent_sparse = 1 - (non_zero_cols / float(X_train_tfidf.shape[1]))\n",
    "# print('Percentage of columns containing ZERO: {}'.format(percent_sparse))"
   ]
  },
  {
   "cell_type": "code",
   "execution_count": 25,
   "id": "a8359d4f",
   "metadata": {},
   "outputs": [],
   "source": [
    "# Here, we can see that 99.9% of the columns contain a zero, meaning that's a very sparse matrix with 20K columns. \n",
    "# We know the amount of columns because it's the size of the total corpus vocabulary. \n",
    "# Additionally, it seems that the average length of the individual tweets is 13 wordx\n",
    "# X_train_tfidf"
   ]
  },
  {
   "cell_type": "code",
   "execution_count": 25,
   "id": "4ee4965b",
   "metadata": {},
   "outputs": [],
   "source": [
    "from sklearn.naive_bayes import MultinomialNB\n",
    "baseline_bayes = MultinomialNB(alpha = .01)"
   ]
  },
  {
   "cell_type": "code",
   "execution_count": 26,
   "id": "e6f0289b",
   "metadata": {},
   "outputs": [
    {
     "name": "stdout",
     "output_type": "stream",
     "text": [
      "Wall time: 31.3 ms\n"
     ]
    }
   ],
   "source": [
    "\n",
    "\n",
    "%%time\n",
    "baseline_bayes.fit(X_train, y_train)\n",
    "bayes_test_preds = baseline_bayes.predict(X_test)\n",
    "\n"
   ]
  },
  {
   "cell_type": "code",
   "execution_count": 27,
   "id": "62da0cfd",
   "metadata": {},
   "outputs": [],
   "source": [
    "from sklearn.metrics import classification_report"
   ]
  },
  {
   "cell_type": "code",
   "execution_count": 28,
   "id": "be1fcf8b",
   "metadata": {},
   "outputs": [
    {
     "name": "stdout",
     "output_type": "stream",
     "text": [
      "              precision    recall  f1-score   support\n",
      "\n",
      "           0       0.97      0.71      0.82      6995\n",
      "           1       0.12      0.60      0.20       440\n",
      "\n",
      "    accuracy                           0.71      7435\n",
      "   macro avg       0.54      0.66      0.51      7435\n",
      "weighted avg       0.92      0.71      0.78      7435\n",
      "\n"
     ]
    }
   ],
   "source": [
    "print(classification_report(y_test, bayes_test_preds))"
   ]
  },
  {
   "cell_type": "code",
   "execution_count": 70,
   "id": "a15c2fec",
   "metadata": {},
   "outputs": [
    {
     "data": {
      "text/plain": [
       "<AxesSubplot:>"
      ]
     },
     "execution_count": 70,
     "metadata": {},
     "output_type": "execute_result"
    },
    {
     "data": {
      "image/png": "[encoded data removed]",
      "text/plain": [
       "<Figure size 432x288 with 2 Axes>"
      ]
     },
     "metadata": {
      "needs_background": "light"
     },
     "output_type": "display_data"
    }
   ],
   "source": [
    "from sklearn.metrics import confusion_matrix\n",
    "cfm = confusion_matrix(y_test, bayes_test_preds)\n",
    "labels = ['True Neg','False Pos','False Neg','True Pos']\n",
    "labels = np.asarray(labels).reshape(2,2)\n",
    "sns.heatmap(cfm,annot=labels, fmt='', cmap=\"Blues\")"
   ]
  },
  {
   "cell_type": "code",
   "execution_count": 23,
   "id": "a1f254ed",
   "metadata": {},
   "outputs": [],
   "source": [
    "from nltk.collocations import *\n",
    "bigram_measures = nltk.collocations.BigramAssocMeasures()"
   ]
  },
  {
   "cell_type": "code",
   "execution_count": 24,
   "id": "2566bf26",
   "metadata": {},
   "outputs": [],
   "source": [
    "# creating a finder & passing in tokenized corpus\n",
    "bigram_finder = BigramCollocationFinder.from_words(flat_filtered)"
   ]
  },
  {
   "cell_type": "code",
   "execution_count": 25,
   "id": "6d891265",
   "metadata": {},
   "outputs": [],
   "source": [
    "# computing bigram scores\n",
    "corpus_scored = bigram_finder.score_ngrams(bigram_measures.raw_freq)"
   ]
  },
  {
   "cell_type": "code",
   "execution_count": 26,
   "id": "86811c20",
   "metadata": {},
   "outputs": [
    {
     "data": {
      "text/plain": [
       "[(('wan', 'na'), 0.0018295365531745946),\n",
       " (('got', 'ta'), 0.001657849838507184),\n",
       " (('gon', 'na'), 0.0015666412713401222),\n",
       " (('bitch', 'ass'), 0.0012769199403388667),\n",
       " (('like', 'bitch'), 0.0011910765830051614),\n",
       " (('bitch', 'im'), 0.001169615743671735),\n",
       " (('look', 'like'), 0.0010837723863380297),\n",
       " (('ass', 'bitch'), 0.0010730419666713166),\n",
       " (('yo', 'bitch'), 0.0010301202880044638),\n",
       " (('bad', 'bitch'), 0.0009711029798375415),\n",
       " (('bitch', 'dont'), 0.0009603725601708283),\n",
       " (('bad', 'bitches'), 0.0007672250061699913),\n",
       " (('bitch', 'bitch'), 0.0007618597963366347),\n",
       " (('ass', 'nigga'), 0.0007135729078364255),\n",
       " (('hoes', 'aint'), 0.0006921120685029991),\n",
       " (('bitch', 'got'), 0.000681381648836286),\n",
       " (('fuck', 'bitch'), 0.000681381648836286),\n",
       " (('bitch', 'aint'), 0.0006706512291695728),\n",
       " (('little', 'bitch'), 0.0006652860193362163),\n",
       " (('bitch', 'nigga'), 0.0005687122423357978)]"
      ]
     },
     "execution_count": 26,
     "metadata": {},
     "output_type": "execute_result"
    }
   ],
   "source": [
    "corpus_scored[:20]"
   ]
  },
  {
   "cell_type": "code",
   "execution_count": 20,
   "id": "801cbe04",
   "metadata": {},
   "outputs": [
    {
     "data": {
      "text/plain": [
       "<4957x104342 sparse matrix of type '<class 'numpy.float64'>'\n",
       "\twith 44963 stored elements in Compressed Sparse Row format>"
      ]
     },
     "execution_count": 20,
     "metadata": {},
     "output_type": "execute_result"
    }
   ],
   "source": [
    "X_test_tfidf"
   ]
  },
  {
   "cell_type": "code",
   "execution_count": 37,
   "id": "06dfb8ab",
   "metadata": {},
   "outputs": [
    {
     "name": "stdout",
     "output_type": "stream",
     "text": [
      "Encoded Document is:\n",
      "[[0 0 0 ... 0 0 0]\n",
      " [0 0 0 ... 0 0 0]\n",
      " [0 0 0 ... 0 0 0]\n",
      " ...\n",
      " [0 0 0 ... 0 0 0]\n",
      " [0 0 0 ... 0 0 0]\n",
      " [0 0 0 ... 0 0 0]]\n"
     ]
    }
   ],
   "source": [
    "vectorizer = CountVectorizer()\n",
    "  \n",
    "vectorizer.fit(X_train)\n",
    "  \n",
    "# # Printing the identified Unique words along with their indices\n",
    "# print(\"Vocabulary: \", vectorizer.vocabulary_)\n",
    "  \n",
    "# Encode the Document\n",
    "X_train_count = vectorizer.transform(X_train)\n",
    "  \n",
    "# Summarizing the Encoded Texts\n",
    "print(\"Encoded Document is:\")\n",
    "print(X_train_count.toarray())"
   ]
  },
  {
   "cell_type": "code",
   "execution_count": 38,
   "id": "17d88d50",
   "metadata": {},
   "outputs": [
    {
     "name": "stdout",
     "output_type": "stream",
     "text": [
      "Encoded Document is:\n",
      "[[0 0 0 ... 0 0 0]\n",
      " [0 0 0 ... 0 0 0]\n",
      " [0 0 0 ... 0 0 0]\n",
      " ...\n",
      " [0 0 0 ... 0 0 0]\n",
      " [0 0 0 ... 0 0 0]\n",
      " [0 0 0 ... 0 0 0]]\n"
     ]
    }
   ],
   "source": [
    "vectorizer = CountVectorizer()\n",
    "  \n",
    "vectorizer.fit(X_test)\n",
    "  \n",
    "# # Printing the identified Unique words along with their indices\n",
    "# print(\"Vocabulary: \", vectorizer.vocabulary_)\n",
    "  \n",
    "# Encode the Document\n",
    "X_test_count = vectorizer.transform(X_test)\n",
    "  \n",
    "# Summarizing the Encoded Texts\n",
    "print(\"Encoded Document is:\")\n",
    "print(X_test_count.toarray())"
   ]
  },
  {
   "cell_type": "code",
   "execution_count": 40,
   "id": "967519dc",
   "metadata": {},
   "outputs": [],
   "source": [
    "sentence = ['We have to kill all the Palestinians unless they are resigned to live here as slaves']\n",
    "            \n",
    "tokens = process_tweet(sentence[0])\n",
    "    "
   ]
  },
  {
   "cell_type": "code",
   "execution_count": 41,
   "id": "aa18f4c7",
   "metadata": {},
   "outputs": [
    {
     "data": {
      "text/plain": [
       "['kill palestinians unless resigned live slaves']"
      ]
     },
     "execution_count": 41,
     "metadata": {},
     "output_type": "execute_result"
    }
   ],
   "source": [
    "def listToString(s): \n",
    "    \n",
    "    # initialize an empty string \n",
    "    string = \" \"\n",
    "    \n",
    "    # return string \n",
    "    return (string.join(s)) \n",
    "        \n",
    "        \n",
    "# Driver code    \n",
    "s = [listToString(tokens)]\n",
    "s"
   ]
  },
  {
   "cell_type": "code",
   "execution_count": 150,
   "id": "d7156dd3",
   "metadata": {},
   "outputs": [],
   "source": [
    "# cleaned_token = []\n",
    "# for word in tokens:\n",
    "#     if word not in stop_words:\n",
    "#         cleaned_token.append(word)"
   ]
  },
  {
   "cell_type": "code",
   "execution_count": 88,
   "id": "649f8d23",
   "metadata": {},
   "outputs": [
    {
     "data": {
      "text/plain": [
       "['happy']"
      ]
     },
     "execution_count": 88,
     "metadata": {},
     "output_type": "execute_result"
    }
   ],
   "source": [
    "# cleaned_token"
   ]
  },
  {
   "cell_type": "code",
   "execution_count": 115,
   "id": "01253d04",
   "metadata": {},
   "outputs": [
    {
     "ename": "SyntaxError",
     "evalue": "invalid syntax (Temp/ipykernel_7004/2205767636.py, line 2)",
     "output_type": "error",
     "traceback": [
      "\u001b[1;36m  File \u001b[1;32m\"C:\\Users\\Lalit\\AppData\\Local\\Temp/ipykernel_7004/2205767636.py\"\u001b[1;36m, line \u001b[1;32m2\u001b[0m\n\u001b[1;33m    stemmed = stemmer.stem(word) for word in tokens\u001b[0m\n\u001b[1;37m                                 ^\u001b[0m\n\u001b[1;31mSyntaxError\u001b[0m\u001b[1;31m:\u001b[0m invalid syntax\n"
     ]
    }
   ],
   "source": [
    "# stemmer = PorterStemmer()\n",
    "# stemmed = stemmer.stem(word) for word in tokens]"
   ]
  },
  {
   "cell_type": "code",
   "execution_count": 90,
   "id": "916396da",
   "metadata": {},
   "outputs": [
    {
     "data": {
      "text/plain": [
       "['happi']"
      ]
     },
     "execution_count": 90,
     "metadata": {},
     "output_type": "execute_result"
    }
   ],
   "source": [
    "stemmed"
   ]
  },
  {
   "cell_type": "code",
   "execution_count": 31,
   "id": "404dd3ba",
   "metadata": {},
   "outputs": [
    {
     "data": {
      "text/plain": [
       "<1x125273 sparse matrix of type '<class 'numpy.float64'>'\n",
       "\twith 3 stored elements in Compressed Sparse Row format>"
      ]
     },
     "execution_count": 31,
     "metadata": {},
     "output_type": "execute_result"
    }
   ],
   "source": [
    "test_tfidf = tfidf.transform(s)\n",
    "test_tfidf"
   ]
  },
  {
   "cell_type": "code",
   "execution_count": 32,
   "id": "deaa3d8c",
   "metadata": {},
   "outputs": [],
   "source": [
    "test_pre = baseline_bayes.predict(test_tfidf)"
   ]
  },
  {
   "cell_type": "code",
   "execution_count": 33,
   "id": "4e751ee6",
   "metadata": {
    "scrolled": true
   },
   "outputs": [
    {
     "data": {
      "text/plain": [
       "array([0], dtype=int64)"
      ]
     },
     "execution_count": 33,
     "metadata": {},
     "output_type": "execute_result"
    }
   ],
   "source": [
    "test_pre"
   ]
  },
  {
   "cell_type": "code",
   "execution_count": 47,
   "id": "5cf31393",
   "metadata": {},
   "outputs": [
    {
     "name": "stdout",
     "output_type": "stream",
     "text": [
      "279\n"
     ]
    }
   ],
   "source": [
    "c = 0\n",
    "for i in y_test :\n",
    "    if i == 0 :\n",
    "        c = c+1\n",
    "print(c)"
   ]
  },
  {
   "cell_type": "code",
   "execution_count": 34,
   "id": "debeed56",
   "metadata": {},
   "outputs": [],
   "source": [
    "X_train, X_test, y_train, y_test = train_test_split(X_lem, y_lem, test_size=0.20, random_state=20)\n",
    "\n",
    "# using count vectorizor\n",
    "count = CountVectorizer(stop_words=stop_words)\n",
    "\n",
    "# fitting to the train and test set\n",
    "X_train_count = count.fit_transform(X_train)\n",
    "X_test_count = count.transform(X_test)\n",
    "\n"
   ]
  },
  {
   "cell_type": "code",
   "execution_count": 35,
   "id": "821c463d",
   "metadata": {},
   "outputs": [],
   "source": [
    "baseline_bayes = MultinomialNB(alpha = .01)\n",
    "\n",
    "baseline_bayes.fit(X_train_count, y_train)\n",
    "bayes_test_preds = baseline_bayes.predict(X_test_count)\n"
   ]
  },
  {
   "cell_type": "code",
   "execution_count": 39,
   "id": "5cfc2d66",
   "metadata": {},
   "outputs": [
    {
     "name": "stdout",
     "output_type": "stream",
     "text": [
      "              precision    recall  f1-score   support\n",
      "\n",
      "           0       0.96      0.98      0.97      4683\n",
      "           1       0.45      0.24      0.31       274\n",
      "\n",
      "    accuracy                           0.94      4957\n",
      "   macro avg       0.70      0.61      0.64      4957\n",
      "weighted avg       0.93      0.94      0.93      4957\n",
      "\n"
     ]
    }
   ],
   "source": [
    "print(classification_report(y_test, bayes_test_preds))"
   ]
  },
  {
   "cell_type": "code",
   "execution_count": 73,
   "id": "9e6ebd86",
   "metadata": {},
   "outputs": [
    {
     "data": {
      "text/plain": [
       "<AxesSubplot:>"
      ]
     },
     "execution_count": 73,
     "metadata": {},
     "output_type": "execute_result"
    },
    {
     "data": {
      "image/png": "[encoded data removed]",
      "text/plain": [
       "<Figure size 432x288 with 2 Axes>"
      ]
     },
     "metadata": {
      "needs_background": "light"
     },
     "output_type": "display_data"
    }
   ],
   "source": [
    "cfm = confusion_matrix(y_test, bayes_test_preds)\n",
    "labels = ['True Neg','False Pos','False Neg','True Pos']\n",
    "labels = np.asarray(labels).reshape(2,2)\n",
    "sns.heatmap(cfm,annot=labels, fmt='', cmap=\"Blues\")"
   ]
  },
  {
   "cell_type": "code",
   "execution_count": 42,
   "id": "9ad79897",
   "metadata": {},
   "outputs": [],
   "source": [
    "test_count = count.transform(s)\n",
    "test_pre = baseline_bayes.predict(test_count)"
   ]
  },
  {
   "cell_type": "code",
   "execution_count": 43,
   "id": "5f49aa26",
   "metadata": {},
   "outputs": [
    {
     "data": {
      "text/plain": [
       "array([1], dtype=int64)"
      ]
     },
     "execution_count": 43,
     "metadata": {},
     "output_type": "execute_result"
    }
   ],
   "source": [
    "test_pre\n",
    "# 0 - not hate speech \n",
    "# 1 - hate speech"
   ]
  },
  {
   "cell_type": "code",
   "execution_count": 51,
   "id": "6ff8a00c",
   "metadata": {},
   "outputs": [
    {
     "name": "stdout",
     "output_type": "stream",
     "text": [
      "{'alpha': 0.01, 'class_prior': None, 'fit_prior': True}\n"
     ]
    }
   ],
   "source": [
    "print(baseline_bayes.get_params())"
   ]
  },
  {
   "cell_type": "code",
   "execution_count": 55,
   "id": "f6134c64",
   "metadata": {},
   "outputs": [
    {
     "name": "stderr",
     "output_type": "stream",
     "text": [
      "E:\\Anaconda\\lib\\site-packages\\sklearn\\linear_model\\_logistic.py:763: ConvergenceWarning: lbfgs failed to converge (status=1):\n",
      "STOP: TOTAL NO. of ITERATIONS REACHED LIMIT.\n",
      "\n",
      "Increase the number of iterations (max_iter) or scale the data as shown in:\n",
      "    https://scikit-learn.org/stable/modules/preprocessing.html\n",
      "Please also refer to the documentation for alternative solver options:\n",
      "    https://scikit-learn.org/stable/modules/linear_model.html#logistic-regression\n",
      "  n_iter_i = _check_optimize_result(\n"
     ]
    },
    {
     "data": {
      "text/plain": [
       "LogisticRegression(penalty='none')"
      ]
     },
     "execution_count": 55,
     "metadata": {},
     "output_type": "execute_result"
    }
   ],
   "source": [
    "from sklearn import linear_model\n",
    "lgreg_clf = linear_model.LogisticRegression(penalty='none')\n",
    "lgreg_clf.fit(X_train_count,y_train)"
   ]
  },
  {
   "cell_type": "code",
   "execution_count": 56,
   "id": "b448da74",
   "metadata": {},
   "outputs": [],
   "source": [
    "with open('model_nb.pkl', 'wb') as files:\n",
    "    pickle.dump(baseline_bayes, files)"
   ]
  },
  {
   "cell_type": "code",
   "execution_count": 57,
   "id": "c7b90708",
   "metadata": {},
   "outputs": [],
   "source": [
    "# load saved model\n",
    "with open('model_nb.pkl' , 'rb') as f:\n",
    "    b_nb = pickle.load(f)"
   ]
  },
  {
   "cell_type": "code",
   "execution_count": 59,
   "id": "13ca9136",
   "metadata": {},
   "outputs": [
    {
     "data": {
      "text/plain": [
       "array([0], dtype=int64)"
      ]
     },
     "execution_count": 59,
     "metadata": {},
     "output_type": "execute_result"
    }
   ],
   "source": [
    "b_nb.predict(test_count)"
   ]
  },
  {
   "cell_type": "code",
   "execution_count": 44,
   "id": "c502e419",
   "metadata": {},
   "outputs": [],
   "source": [
    "with open('test_count.pkl', 'wb') as files:\n",
    "    pickle.dump(test_count, files)"
   ]
  },
  {
   "cell_type": "code",
   "execution_count": null,
   "id": "4ae4fbca",
   "metadata": {},
   "outputs": [],
   "source": []
  }
 ],
 "metadata": {
  "kernelspec": {
   "display_name": "Python 3 (ipykernel)",
   "language": "python",
   "name": "python3"
  },
  "language_info": {
   "codemirror_mode": {
    "name": "ipython",
    "version": 3
   },
   "file_extension": ".py",
   "mimetype": "text/x-python",
   "name": "python",
   "nbconvert_exporter": "python",
   "pygments_lexer": "ipython3",
   "version": "3.9.7"
  }
 },
 "nbformat": 4,
 "nbformat_minor": 5
}
