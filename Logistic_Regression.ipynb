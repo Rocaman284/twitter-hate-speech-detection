{
 "cells": [
  {
   "cell_type": "markdown",
   "id": "0eef21bb",
   "metadata": {},
   "source": [
    "# Logistic Regresssion with different Vectorization Techniques"
   ]
  },
  {
   "cell_type": "code",
   "execution_count": 1,
   "id": "ea6fcd7f",
   "metadata": {},
   "outputs": [],
   "source": [
    "# importing relevant libraries\n",
    "import numpy as np\n",
    "import pandas as pd\n",
    "import matplotlib.pyplot as plt\n",
    "from matplotlib import cm\n",
    "import seaborn as sns\n",
    "%matplotlib inline\n",
    "plt.style.use('bmh')\n",
    "import pickle\n",
    "from sklearn.model_selection import train_test_split"
   ]
  },
  {
   "cell_type": "code",
   "execution_count": 2,
   "id": "8158a09a",
   "metadata": {},
   "outputs": [],
   "source": [
    "# load y_lem \n",
    "with open('y_lem.pkl', 'rb') as f :\n",
    "    y_lem = pickle.load(f)"
   ]
  },
  {
   "cell_type": "code",
   "execution_count": 3,
   "id": "28b00392",
   "metadata": {},
   "outputs": [],
   "source": [
    "# load X_tfidf and X_count\n",
    "with open('X_tfidf.pkl' , 'rb') as f:\n",
    "    X_tfidf = pickle.load(f)\n",
    "################################"
   ]
  },
  {
   "cell_type": "markdown",
   "id": "469201bf",
   "metadata": {},
   "source": [
    "## TF-IDF"
   ]
  },
  {
   "cell_type": "code",
   "execution_count": 5,
   "id": "a6f92174",
   "metadata": {},
   "outputs": [],
   "source": [
    "X_train_t, X_test_t, y_train_t, y_test_t = train_test_split(X_tfidf, y_lem, test_size=0.2, random_state=1)"
   ]
  },
  {
   "cell_type": "code",
   "execution_count": 6,
   "id": "5462f69b",
   "metadata": {},
   "outputs": [
    {
     "data": {
      "text/plain": [
       "LogisticRegression(random_state=0)"
      ]
     },
     "execution_count": 6,
     "metadata": {},
     "output_type": "execute_result"
    }
   ],
   "source": [
    "from sklearn.linear_model import LogisticRegression\n",
    "lg_tfidf = LogisticRegression(random_state = 0)\n",
    "lg_tfidf.fit(X_train_t, y_train_t)"
   ]
  },
  {
   "cell_type": "code",
   "execution_count": 9,
   "id": "50f0a636",
   "metadata": {},
   "outputs": [],
   "source": [
    "y_pred_tfidf = lg_tfidf.predict(X_test_t)"
   ]
  },
  {
   "cell_type": "code",
   "execution_count": 11,
   "id": "611613dd",
   "metadata": {},
   "outputs": [
    {
     "name": "stdout",
     "output_type": "stream",
     "text": [
      "Confusion Matrix : \n",
      " [[4654    7]\n",
      " [ 282   14]]\n"
     ]
    }
   ],
   "source": [
    "from sklearn.metrics import confusion_matrix\n",
    "cm_t = confusion_matrix(y_test_t, y_pred_tfidf)\n",
    "  \n",
    "print (\"Confusion Matrix : \\n\", cm_t)"
   ]
  },
  {
   "cell_type": "code",
   "execution_count": 12,
   "id": "6c9da064",
   "metadata": {},
   "outputs": [
    {
     "name": "stdout",
     "output_type": "stream",
     "text": [
      "              precision    recall  f1-score   support\n",
      "\n",
      "           0       0.94      1.00      0.97      4661\n",
      "           1       0.67      0.05      0.09       296\n",
      "\n",
      "    accuracy                           0.94      4957\n",
      "   macro avg       0.80      0.52      0.53      4957\n",
      "weighted avg       0.93      0.94      0.92      4957\n",
      "\n"
     ]
    }
   ],
   "source": [
    "from sklearn.metrics import classification_report\n",
    "print(classification_report(y_test_t, y_pred_tfidf))"
   ]
  },
  {
   "cell_type": "code",
   "execution_count": 13,
   "id": "e6b829bc",
   "metadata": {},
   "outputs": [],
   "source": [
    "# dumping the model\n",
    "with open('lg_tfidf_model.pkl','wb') as files:\n",
    "    pickle.dump(lg_tfidf, files)"
   ]
  },
  {
   "cell_type": "markdown",
   "id": "a74cfa3b",
   "metadata": {},
   "source": [
    "## Count Vectorization"
   ]
  },
  {
   "cell_type": "code",
   "execution_count": 14,
   "id": "29f6d2ed",
   "metadata": {},
   "outputs": [],
   "source": [
    "# load X_tfidf and X_count\n",
    "with open('X_count.pkl' , 'rb') as f:\n",
    "    X_count = pickle.load(f)\n",
    "################################"
   ]
  },
  {
   "cell_type": "code",
   "execution_count": 16,
   "id": "231e2686",
   "metadata": {},
   "outputs": [],
   "source": [
    "X_train_c, X_test_c, y_train_c, y_test_c = train_test_split(X_count, y_lem, test_size=0.2, random_state=1)"
   ]
  },
  {
   "cell_type": "code",
   "execution_count": 17,
   "id": "d14806a5",
   "metadata": {},
   "outputs": [
    {
     "data": {
      "text/plain": [
       "LogisticRegression(random_state=0)"
      ]
     },
     "execution_count": 17,
     "metadata": {},
     "output_type": "execute_result"
    }
   ],
   "source": [
    "lg_count = LogisticRegression(random_state = 0)\n",
    "lg_count.fit(X_train_c, y_train_c)"
   ]
  },
  {
   "cell_type": "code",
   "execution_count": 22,
   "id": "613e2453",
   "metadata": {},
   "outputs": [],
   "source": [
    "y_pred_count = lg_count.predict(X_test_c)"
   ]
  },
  {
   "cell_type": "code",
   "execution_count": 23,
   "id": "a4ddd0b6",
   "metadata": {},
   "outputs": [
    {
     "name": "stdout",
     "output_type": "stream",
     "text": [
      "              precision    recall  f1-score   support\n",
      "\n",
      "           0       0.95      0.99      0.97      4661\n",
      "           1       0.49      0.16      0.24       296\n",
      "\n",
      "    accuracy                           0.94      4957\n",
      "   macro avg       0.72      0.58      0.61      4957\n",
      "weighted avg       0.92      0.94      0.93      4957\n",
      "\n"
     ]
    }
   ],
   "source": [
    "from sklearn.metrics import classification_report\n",
    "print(classification_report(y_test_c, y_pred_count))"
   ]
  },
  {
   "cell_type": "code",
   "execution_count": 24,
   "id": "a36f7575",
   "metadata": {},
   "outputs": [
    {
     "name": "stdout",
     "output_type": "stream",
     "text": [
      "Confusion Matrix : \n",
      " [[4612   49]\n",
      " [ 248   48]]\n"
     ]
    }
   ],
   "source": [
    "from sklearn.metrics import confusion_matrix\n",
    "cm_c = confusion_matrix(y_test_c, y_pred_count)\n",
    "  \n",
    "print (\"Confusion Matrix : \\n\", cm_c)"
   ]
  },
  {
   "cell_type": "code",
   "execution_count": 25,
   "id": "5687b736",
   "metadata": {},
   "outputs": [],
   "source": [
    "# dumping the model\n",
    "with open('lg_count_model.pkl','wb') as files:\n",
    "    pickle.dump(lg_count, files)"
   ]
  }
 ],
 "metadata": {
  "kernelspec": {
   "display_name": "Python 3 (ipykernel)",
   "language": "python",
   "name": "python3"
  },
  "language_info": {
   "codemirror_mode": {
    "name": "ipython",
    "version": 3
   },
   "file_extension": ".py",
   "mimetype": "text/x-python",
   "name": "python",
   "nbconvert_exporter": "python",
   "pygments_lexer": "ipython3",
   "version": "3.9.7"
  }
 },
 "nbformat": 4,
 "nbformat_minor": 5
}
